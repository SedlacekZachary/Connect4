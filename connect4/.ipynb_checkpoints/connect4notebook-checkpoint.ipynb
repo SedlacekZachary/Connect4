{
 "cells": [
  {
   "cell_type": "code",
   "execution_count": 1,
   "id": "489f324a",
   "metadata": {},
   "outputs": [],
   "source": [
    "import numpy as np\n",
    "import tensorflow as tf\n",
    "from tensorflow import keras\n",
    "from keras.models import Sequential\n",
    "from keras.layers import Dense, Dropout\n",
    "from keras.callbacks import EarlyStopping"
   ]
  },
  {
   "cell_type": "code",
   "execution_count": 2,
   "id": "42e003ad",
   "metadata": {},
   "outputs": [],
   "source": [
    "import pickle"
   ]
  },
  {
   "cell_type": "code",
   "execution_count": 3,
   "id": "d8604e14",
   "metadata": {},
   "outputs": [],
   "source": [
    "with open('boards.pkl','rb') as f: boards = pickle.load(f)"
   ]
  },
  {
   "cell_type": "code",
   "execution_count": 6,
   "id": "20cee9a6",
   "metadata": {},
   "outputs": [],
   "source": [
    "import matplotlib.pyplot as plt"
   ]
  },
  {
   "cell_type": "code",
   "execution_count": 7,
   "id": "f81cd327",
   "metadata": {
    "scrolled": false
   },
   "outputs": [],
   "source": [
    "#for MOVE in range(boards.shape[0]):\n",
    "    #plt.figure()\n",
    "    #plt.imshow(boards[MOVE])"
   ]
  },
  {
   "cell_type": "code",
   "execution_count": 8,
   "id": "0a255e0a",
   "metadata": {},
   "outputs": [],
   "source": [
    "from copy import deepcopy"
   ]
  },
  {
   "cell_type": "code",
   "execution_count": 9,
   "id": "f9b1398a",
   "metadata": {},
   "outputs": [],
   "source": [
    "moves = []\n",
    "pred = []\n",
    "for MOVE in range(boards.shape[0] - 1):\n",
    "    moves.append(boards[MOVE].reshape(6*7))\n",
    "    pred.append(deepcopy(boards[MOVE+1].reshape(6*7)))"
   ]
  },
  {
   "cell_type": "code",
   "execution_count": 10,
   "id": "f9b09258",
   "metadata": {},
   "outputs": [],
   "source": [
    "#Normalize pred\n",
    "for MOVE in range(boards.shape[0] - 1):\n",
    "    pred[MOVE] -= deepcopy(moves[MOVE])\n",
    "    if pred[MOVE].sum() > 1:\n",
    "        pred[MOVE] /= 2"
   ]
  },
  {
   "cell_type": "code",
   "execution_count": 11,
   "id": "2fe4eade",
   "metadata": {},
   "outputs": [],
   "source": [
    "moves = np.array(moves)\n",
    "pred = np.array(pred)"
   ]
  },
  {
   "cell_type": "code",
   "execution_count": 12,
   "id": "f9392769",
   "metadata": {},
   "outputs": [],
   "source": [
    "#Remove transitions between games\n",
    "index = np.abs(pred.sum(1)) == 1\n",
    "moves = moves[index]\n",
    "pred = pred[index]"
   ]
  },
  {
   "cell_type": "code",
   "execution_count": 16,
   "id": "3f9de622",
   "metadata": {},
   "outputs": [],
   "source": [
    "model = Sequential()\n",
    "callback = tf.keras.callbacks.EarlyStopping(monitor='loss', patience=8)\n",
    "model.add(keras.Input(shape=(42)))\n",
    "model.add(Dense( 200, activation='relu'))\n",
    "\n",
    "model.add(Dropout(0.3))\n",
    "\n",
    "model.add(Dense(42, activation='softmax'))\n",
    "\n",
    "model.compile(optimizer='adam',\n",
    "              loss='categorical_crossentropy',\n",
    "              metrics=['accuracy'])\n"
   ]
  },
  {
   "cell_type": "code",
   "execution_count": 17,
   "id": "74170619",
   "metadata": {},
   "outputs": [
    {
     "name": "stdout",
     "output_type": "stream",
     "text": [
      "Model: \"sequential\"\n",
      "_________________________________________________________________\n",
      " Layer (type)                Output Shape              Param #   \n",
      "=================================================================\n",
      " dense (Dense)               (None, 200)               8600      \n",
      "                                                                 \n",
      " dropout (Dropout)           (None, 200)               0         \n",
      "                                                                 \n",
      " dense_1 (Dense)             (None, 42)                8442      \n",
      "                                                                 \n",
      "=================================================================\n",
      "Total params: 17,042\n",
      "Trainable params: 17,042\n",
      "Non-trainable params: 0\n",
      "_________________________________________________________________\n"
     ]
    }
   ],
   "source": [
    "model.summary()"
   ]
  },
  {
   "cell_type": "code",
   "execution_count": 18,
   "id": "aeaaaecf",
   "metadata": {},
   "outputs": [
    {
     "name": "stdout",
     "output_type": "stream",
     "text": [
      "Epoch 1/200\n",
      "7/7 [==============================] - 1s 34ms/step - loss: 3.8081 - accuracy: 0.0296 - val_loss: 3.7477 - val_accuracy: 0.0319\n",
      "Epoch 2/200\n",
      "7/7 [==============================] - 0s 5ms/step - loss: 3.6895 - accuracy: 0.0592 - val_loss: 3.6685 - val_accuracy: 0.0319\n",
      "Epoch 3/200\n",
      "7/7 [==============================] - 0s 8ms/step - loss: 3.5985 - accuracy: 0.0722 - val_loss: 3.6039 - val_accuracy: 0.0106\n",
      "Epoch 4/200\n",
      "7/7 [==============================] - 0s 6ms/step - loss: 3.5312 - accuracy: 0.0923 - val_loss: 3.5536 - val_accuracy: 0.0532\n",
      "Epoch 5/200\n",
      "7/7 [==============================] - 0s 8ms/step - loss: 3.4451 - accuracy: 0.1041 - val_loss: 3.5017 - val_accuracy: 0.0851\n",
      "Epoch 6/200\n",
      "7/7 [==============================] - 0s 6ms/step - loss: 3.3813 - accuracy: 0.1160 - val_loss: 3.4482 - val_accuracy: 0.0957\n",
      "Epoch 7/200\n",
      "7/7 [==============================] - 0s 5ms/step - loss: 3.3175 - accuracy: 0.1432 - val_loss: 3.3860 - val_accuracy: 0.1170\n",
      "Epoch 8/200\n",
      "7/7 [==============================] - 0s 8ms/step - loss: 3.2289 - accuracy: 0.1645 - val_loss: 3.3192 - val_accuracy: 0.1277\n",
      "Epoch 9/200\n",
      "7/7 [==============================] - 0s 5ms/step - loss: 3.1719 - accuracy: 0.1964 - val_loss: 3.2478 - val_accuracy: 0.1702\n",
      "Epoch 10/200\n",
      "7/7 [==============================] - 0s 8ms/step - loss: 3.1035 - accuracy: 0.2142 - val_loss: 3.1824 - val_accuracy: 0.2340\n",
      "Epoch 11/200\n",
      "7/7 [==============================] - 0s 6ms/step - loss: 3.0218 - accuracy: 0.2308 - val_loss: 3.1192 - val_accuracy: 0.2340\n",
      "Epoch 12/200\n",
      "7/7 [==============================] - 0s 8ms/step - loss: 2.9558 - accuracy: 0.2651 - val_loss: 3.0640 - val_accuracy: 0.2340\n",
      "Epoch 13/200\n",
      "7/7 [==============================] - 0s 6ms/step - loss: 2.9001 - accuracy: 0.2722 - val_loss: 3.0142 - val_accuracy: 0.2340\n",
      "Epoch 14/200\n",
      "7/7 [==============================] - 0s 8ms/step - loss: 2.8172 - accuracy: 0.3006 - val_loss: 2.9536 - val_accuracy: 0.2340\n",
      "Epoch 15/200\n",
      "7/7 [==============================] - 0s 5ms/step - loss: 2.7685 - accuracy: 0.2970 - val_loss: 2.8968 - val_accuracy: 0.2447\n",
      "Epoch 16/200\n",
      "7/7 [==============================] - 0s 6ms/step - loss: 2.7122 - accuracy: 0.3030 - val_loss: 2.8467 - val_accuracy: 0.2660\n",
      "Epoch 17/200\n",
      "7/7 [==============================] - 0s 5ms/step - loss: 2.6540 - accuracy: 0.3124 - val_loss: 2.8091 - val_accuracy: 0.2872\n",
      "Epoch 18/200\n",
      "7/7 [==============================] - 0s 6ms/step - loss: 2.5740 - accuracy: 0.3408 - val_loss: 2.7708 - val_accuracy: 0.2766\n",
      "Epoch 19/200\n",
      "7/7 [==============================] - 0s 5ms/step - loss: 2.5395 - accuracy: 0.3491 - val_loss: 2.7273 - val_accuracy: 0.2872\n",
      "Epoch 20/200\n",
      "7/7 [==============================] - 0s 5ms/step - loss: 2.4979 - accuracy: 0.3314 - val_loss: 2.6876 - val_accuracy: 0.2979\n",
      "Epoch 21/200\n",
      "7/7 [==============================] - 0s 6ms/step - loss: 2.4621 - accuracy: 0.3515 - val_loss: 2.6474 - val_accuracy: 0.2979\n",
      "Epoch 22/200\n",
      "7/7 [==============================] - 0s 5ms/step - loss: 2.4023 - accuracy: 0.3562 - val_loss: 2.6075 - val_accuracy: 0.2872\n",
      "Epoch 23/200\n",
      "7/7 [==============================] - 0s 6ms/step - loss: 2.3671 - accuracy: 0.3444 - val_loss: 2.5756 - val_accuracy: 0.3085\n",
      "Epoch 24/200\n",
      "7/7 [==============================] - 0s 5ms/step - loss: 2.3173 - accuracy: 0.3751 - val_loss: 2.5487 - val_accuracy: 0.2872\n",
      "Epoch 25/200\n",
      "7/7 [==============================] - 0s 5ms/step - loss: 2.2739 - accuracy: 0.3692 - val_loss: 2.5239 - val_accuracy: 0.2979\n",
      "Epoch 26/200\n",
      "7/7 [==============================] - 0s 6ms/step - loss: 2.2621 - accuracy: 0.3491 - val_loss: 2.4845 - val_accuracy: 0.3085\n",
      "Epoch 27/200\n",
      "7/7 [==============================] - 0s 8ms/step - loss: 2.2173 - accuracy: 0.3870 - val_loss: 2.4541 - val_accuracy: 0.3191\n",
      "Epoch 28/200\n",
      "7/7 [==============================] - 0s 6ms/step - loss: 2.1662 - accuracy: 0.3799 - val_loss: 2.4313 - val_accuracy: 0.3298\n",
      "Epoch 29/200\n",
      "7/7 [==============================] - 0s 5ms/step - loss: 2.1540 - accuracy: 0.3704 - val_loss: 2.4043 - val_accuracy: 0.3404\n",
      "Epoch 30/200\n",
      "7/7 [==============================] - 0s 8ms/step - loss: 2.0952 - accuracy: 0.4213 - val_loss: 2.3808 - val_accuracy: 0.2979\n",
      "Epoch 31/200\n",
      "7/7 [==============================] - 0s 6ms/step - loss: 2.1060 - accuracy: 0.3988 - val_loss: 2.3554 - val_accuracy: 0.3511\n",
      "Epoch 32/200\n",
      "7/7 [==============================] - 0s 5ms/step - loss: 2.0538 - accuracy: 0.4284 - val_loss: 2.3311 - val_accuracy: 0.3298\n",
      "Epoch 33/200\n",
      "7/7 [==============================] - 0s 6ms/step - loss: 2.0457 - accuracy: 0.4166 - val_loss: 2.3103 - val_accuracy: 0.3617\n",
      "Epoch 34/200\n",
      "7/7 [==============================] - 0s 5ms/step - loss: 1.9797 - accuracy: 0.4367 - val_loss: 2.2868 - val_accuracy: 0.3511\n",
      "Epoch 35/200\n",
      "7/7 [==============================] - 0s 5ms/step - loss: 1.9700 - accuracy: 0.4426 - val_loss: 2.2641 - val_accuracy: 0.3723\n",
      "Epoch 36/200\n",
      "7/7 [==============================] - 0s 8ms/step - loss: 1.9655 - accuracy: 0.4284 - val_loss: 2.2531 - val_accuracy: 0.3511\n",
      "Epoch 37/200\n",
      "7/7 [==============================] - 0s 9ms/step - loss: 1.9418 - accuracy: 0.4225 - val_loss: 2.2289 - val_accuracy: 0.3617\n",
      "Epoch 38/200\n",
      "7/7 [==============================] - 0s 5ms/step - loss: 1.9098 - accuracy: 0.4473 - val_loss: 2.2150 - val_accuracy: 0.3723\n",
      "Epoch 39/200\n",
      "7/7 [==============================] - 0s 5ms/step - loss: 1.8872 - accuracy: 0.4544 - val_loss: 2.1926 - val_accuracy: 0.3723\n",
      "Epoch 40/200\n",
      "7/7 [==============================] - 0s 6ms/step - loss: 1.8500 - accuracy: 0.4675 - val_loss: 2.1893 - val_accuracy: 0.3830\n",
      "Epoch 41/200\n",
      "7/7 [==============================] - 0s 5ms/step - loss: 1.8023 - accuracy: 0.4840 - val_loss: 2.1729 - val_accuracy: 0.3830\n",
      "Epoch 42/200\n",
      "7/7 [==============================] - 0s 5ms/step - loss: 1.8231 - accuracy: 0.4639 - val_loss: 2.1465 - val_accuracy: 0.3723\n",
      "Epoch 43/200\n",
      "7/7 [==============================] - 0s 5ms/step - loss: 1.8337 - accuracy: 0.4414 - val_loss: 2.1390 - val_accuracy: 0.3936\n",
      "Epoch 44/200\n",
      "7/7 [==============================] - 0s 5ms/step - loss: 1.8046 - accuracy: 0.4746 - val_loss: 2.1266 - val_accuracy: 0.3830\n",
      "Epoch 45/200\n",
      "7/7 [==============================] - 0s 6ms/step - loss: 1.7587 - accuracy: 0.4970 - val_loss: 2.0993 - val_accuracy: 0.3617\n",
      "Epoch 46/200\n",
      "7/7 [==============================] - 0s 5ms/step - loss: 1.7366 - accuracy: 0.4899 - val_loss: 2.0974 - val_accuracy: 0.3617\n",
      "Epoch 47/200\n",
      "7/7 [==============================] - 0s 6ms/step - loss: 1.7477 - accuracy: 0.4947 - val_loss: 2.0839 - val_accuracy: 0.3830\n",
      "Epoch 48/200\n",
      "7/7 [==============================] - 0s 5ms/step - loss: 1.7294 - accuracy: 0.4959 - val_loss: 2.0680 - val_accuracy: 0.3936\n",
      "Epoch 49/200\n",
      "7/7 [==============================] - 0s 8ms/step - loss: 1.7115 - accuracy: 0.4959 - val_loss: 2.0506 - val_accuracy: 0.3830\n",
      "Epoch 50/200\n",
      "7/7 [==============================] - 0s 6ms/step - loss: 1.6651 - accuracy: 0.5101 - val_loss: 2.0490 - val_accuracy: 0.3830\n",
      "Epoch 51/200\n",
      "7/7 [==============================] - 0s 5ms/step - loss: 1.6555 - accuracy: 0.5124 - val_loss: 2.0319 - val_accuracy: 0.3617\n",
      "Epoch 52/200\n",
      "7/7 [==============================] - 0s 6ms/step - loss: 1.6844 - accuracy: 0.5006 - val_loss: 2.0280 - val_accuracy: 0.3830\n",
      "Epoch 53/200\n",
      "7/7 [==============================] - 0s 5ms/step - loss: 1.6554 - accuracy: 0.4899 - val_loss: 2.0250 - val_accuracy: 0.3617\n",
      "Epoch 54/200\n",
      "7/7 [==============================] - 0s 5ms/step - loss: 1.6499 - accuracy: 0.5089 - val_loss: 2.0113 - val_accuracy: 0.3298\n",
      "Epoch 55/200\n",
      "7/7 [==============================] - 0s 6ms/step - loss: 1.6299 - accuracy: 0.5254 - val_loss: 1.9933 - val_accuracy: 0.3298\n",
      "Epoch 56/200\n",
      "7/7 [==============================] - 0s 5ms/step - loss: 1.6072 - accuracy: 0.5148 - val_loss: 1.9762 - val_accuracy: 0.3298\n",
      "Epoch 57/200\n",
      "7/7 [==============================] - 0s 8ms/step - loss: 1.5833 - accuracy: 0.5432 - val_loss: 1.9777 - val_accuracy: 0.3511\n",
      "Epoch 58/200\n",
      "7/7 [==============================] - 0s 6ms/step - loss: 1.5524 - accuracy: 0.5538 - val_loss: 1.9816 - val_accuracy: 0.3404\n",
      "Epoch 59/200\n"
     ]
    },
    {
     "name": "stdout",
     "output_type": "stream",
     "text": [
      "7/7 [==============================] - 0s 5ms/step - loss: 1.5656 - accuracy: 0.5325 - val_loss: 1.9991 - val_accuracy: 0.3511\n",
      "Epoch 60/200\n",
      "7/7 [==============================] - 0s 6ms/step - loss: 1.5732 - accuracy: 0.5266 - val_loss: 1.9930 - val_accuracy: 0.3617\n",
      "Epoch 61/200\n",
      "7/7 [==============================] - 0s 5ms/step - loss: 1.5593 - accuracy: 0.5314 - val_loss: 1.9821 - val_accuracy: 0.3511\n",
      "Epoch 62/200\n",
      "7/7 [==============================] - 0s 8ms/step - loss: 1.5280 - accuracy: 0.5444 - val_loss: 1.9675 - val_accuracy: 0.3511\n",
      "Epoch 63/200\n",
      "7/7 [==============================] - 0s 6ms/step - loss: 1.5213 - accuracy: 0.5432 - val_loss: 1.9595 - val_accuracy: 0.3511\n",
      "Epoch 64/200\n",
      "7/7 [==============================] - 0s 5ms/step - loss: 1.5161 - accuracy: 0.5444 - val_loss: 1.9555 - val_accuracy: 0.3511\n",
      "Epoch 65/200\n",
      "7/7 [==============================] - 0s 6ms/step - loss: 1.4772 - accuracy: 0.5467 - val_loss: 1.9541 - val_accuracy: 0.3298\n",
      "Epoch 66/200\n",
      "7/7 [==============================] - 0s 5ms/step - loss: 1.4987 - accuracy: 0.5550 - val_loss: 1.9476 - val_accuracy: 0.3511\n",
      "Epoch 67/200\n",
      "7/7 [==============================] - 0s 4ms/step - loss: 1.4768 - accuracy: 0.5586 - val_loss: 1.9314 - val_accuracy: 0.3511\n",
      "Epoch 68/200\n",
      "7/7 [==============================] - 0s 5ms/step - loss: 1.4617 - accuracy: 0.5515 - val_loss: 1.9194 - val_accuracy: 0.3511\n",
      "Epoch 69/200\n",
      "7/7 [==============================] - 0s 8ms/step - loss: 1.4508 - accuracy: 0.5586 - val_loss: 1.9085 - val_accuracy: 0.3617\n",
      "Epoch 70/200\n",
      "7/7 [==============================] - 0s 6ms/step - loss: 1.4409 - accuracy: 0.5657 - val_loss: 1.9321 - val_accuracy: 0.3511\n",
      "Epoch 71/200\n",
      "7/7 [==============================] - 0s 5ms/step - loss: 1.4470 - accuracy: 0.5574 - val_loss: 1.9327 - val_accuracy: 0.3617\n",
      "Epoch 72/200\n",
      "7/7 [==============================] - 0s 6ms/step - loss: 1.4515 - accuracy: 0.5444 - val_loss: 1.9212 - val_accuracy: 0.3617\n",
      "Epoch 73/200\n",
      "7/7 [==============================] - 0s 5ms/step - loss: 1.4580 - accuracy: 0.5503 - val_loss: 1.9174 - val_accuracy: 0.3723\n",
      "Epoch 74/200\n",
      "7/7 [==============================] - 0s 5ms/step - loss: 1.3983 - accuracy: 0.5811 - val_loss: 1.9140 - val_accuracy: 0.3830\n",
      "Epoch 75/200\n",
      "7/7 [==============================] - 0s 6ms/step - loss: 1.4144 - accuracy: 0.5716 - val_loss: 1.9046 - val_accuracy: 0.3830\n",
      "Epoch 76/200\n",
      "7/7 [==============================] - 0s 5ms/step - loss: 1.3940 - accuracy: 0.5775 - val_loss: 1.9043 - val_accuracy: 0.3617\n",
      "Epoch 77/200\n",
      "7/7 [==============================] - 0s 5ms/step - loss: 1.4024 - accuracy: 0.5716 - val_loss: 1.9141 - val_accuracy: 0.3723\n",
      "Epoch 78/200\n",
      "7/7 [==============================] - 0s 4ms/step - loss: 1.3545 - accuracy: 0.6036 - val_loss: 1.9096 - val_accuracy: 0.3830\n",
      "Epoch 79/200\n",
      "7/7 [==============================] - 0s 5ms/step - loss: 1.3863 - accuracy: 0.5775 - val_loss: 1.9173 - val_accuracy: 0.3723\n",
      "Epoch 80/200\n",
      "7/7 [==============================] - 0s 6ms/step - loss: 1.3437 - accuracy: 0.5941 - val_loss: 1.9141 - val_accuracy: 0.3723\n",
      "Epoch 81/200\n",
      "7/7 [==============================] - 0s 5ms/step - loss: 1.3602 - accuracy: 0.6154 - val_loss: 1.9024 - val_accuracy: 0.3723\n",
      "Epoch 82/200\n",
      "7/7 [==============================] - 0s 5ms/step - loss: 1.3282 - accuracy: 0.6107 - val_loss: 1.9101 - val_accuracy: 0.3617\n",
      "Epoch 83/200\n",
      "7/7 [==============================] - 0s 6ms/step - loss: 1.3222 - accuracy: 0.5988 - val_loss: 1.9111 - val_accuracy: 0.3723\n",
      "Epoch 84/200\n",
      "7/7 [==============================] - 0s 5ms/step - loss: 1.3228 - accuracy: 0.6047 - val_loss: 1.8990 - val_accuracy: 0.3723\n",
      "Epoch 85/200\n",
      "7/7 [==============================] - 0s 6ms/step - loss: 1.3499 - accuracy: 0.5953 - val_loss: 1.8945 - val_accuracy: 0.3723\n",
      "Epoch 86/200\n",
      "7/7 [==============================] - 0s 6ms/step - loss: 1.3083 - accuracy: 0.6059 - val_loss: 1.8952 - val_accuracy: 0.3723\n",
      "Epoch 87/200\n",
      "7/7 [==============================] - 0s 8ms/step - loss: 1.2776 - accuracy: 0.6142 - val_loss: 1.9052 - val_accuracy: 0.3830\n",
      "Epoch 88/200\n",
      "7/7 [==============================] - 0s 5ms/step - loss: 1.2642 - accuracy: 0.6213 - val_loss: 1.8963 - val_accuracy: 0.3723\n",
      "Epoch 89/200\n",
      "7/7 [==============================] - 0s 5ms/step - loss: 1.2933 - accuracy: 0.6000 - val_loss: 1.9004 - val_accuracy: 0.3723\n",
      "Epoch 90/200\n",
      "7/7 [==============================] - 0s 4ms/step - loss: 1.2681 - accuracy: 0.6201 - val_loss: 1.8964 - val_accuracy: 0.3723\n",
      "Epoch 91/200\n",
      "7/7 [==============================] - 0s 5ms/step - loss: 1.2841 - accuracy: 0.6047 - val_loss: 1.8978 - val_accuracy: 0.3830\n",
      "Epoch 92/200\n",
      "7/7 [==============================] - 0s 8ms/step - loss: 1.2762 - accuracy: 0.6154 - val_loss: 1.8714 - val_accuracy: 0.3723\n",
      "Epoch 93/200\n",
      "7/7 [==============================] - 0s 6ms/step - loss: 1.2484 - accuracy: 0.6272 - val_loss: 1.9000 - val_accuracy: 0.3723\n",
      "Epoch 94/200\n",
      "7/7 [==============================] - 0s 5ms/step - loss: 1.2894 - accuracy: 0.6130 - val_loss: 1.8956 - val_accuracy: 0.3830\n",
      "Epoch 95/200\n",
      "7/7 [==============================] - 0s 4ms/step - loss: 1.2363 - accuracy: 0.6308 - val_loss: 1.8924 - val_accuracy: 0.3723\n",
      "Epoch 96/200\n",
      "7/7 [==============================] - 0s 5ms/step - loss: 1.2441 - accuracy: 0.6036 - val_loss: 1.8797 - val_accuracy: 0.3830\n",
      "Epoch 97/200\n",
      "7/7 [==============================] - 0s 5ms/step - loss: 1.2195 - accuracy: 0.6343 - val_loss: 1.8848 - val_accuracy: 0.3723\n",
      "Epoch 98/200\n",
      "7/7 [==============================] - 0s 6ms/step - loss: 1.2033 - accuracy: 0.6544 - val_loss: 1.8952 - val_accuracy: 0.3617\n",
      "Epoch 99/200\n",
      "7/7 [==============================] - 0s 5ms/step - loss: 1.2108 - accuracy: 0.6272 - val_loss: 1.8846 - val_accuracy: 0.3723\n",
      "Epoch 100/200\n",
      "7/7 [==============================] - 0s 6ms/step - loss: 1.2269 - accuracy: 0.6189 - val_loss: 1.8663 - val_accuracy: 0.3723\n",
      "Epoch 101/200\n",
      "7/7 [==============================] - 0s 5ms/step - loss: 1.2032 - accuracy: 0.6568 - val_loss: 1.8755 - val_accuracy: 0.3723\n",
      "Epoch 102/200\n",
      "7/7 [==============================] - 0s 5ms/step - loss: 1.2356 - accuracy: 0.6142 - val_loss: 1.8832 - val_accuracy: 0.3830\n",
      "Epoch 103/200\n",
      "7/7 [==============================] - 0s 6ms/step - loss: 1.2009 - accuracy: 0.6284 - val_loss: 1.8846 - val_accuracy: 0.3830\n",
      "Epoch 104/200\n",
      "7/7 [==============================] - 0s 5ms/step - loss: 1.1908 - accuracy: 0.6272 - val_loss: 1.8924 - val_accuracy: 0.3723\n",
      "Epoch 105/200\n",
      "7/7 [==============================] - 0s 4ms/step - loss: 1.1928 - accuracy: 0.6308 - val_loss: 1.8759 - val_accuracy: 0.3830\n",
      "Epoch 106/200\n",
      "7/7 [==============================] - 0s 5ms/step - loss: 1.1601 - accuracy: 0.6462 - val_loss: 1.8675 - val_accuracy: 0.4043\n",
      "Epoch 107/200\n",
      "7/7 [==============================] - 0s 8ms/step - loss: 1.1895 - accuracy: 0.6331 - val_loss: 1.8492 - val_accuracy: 0.4149\n",
      "Epoch 108/200\n",
      "7/7 [==============================] - 0s 5ms/step - loss: 1.1617 - accuracy: 0.6379 - val_loss: 1.8513 - val_accuracy: 0.3936\n",
      "Epoch 109/200\n",
      "7/7 [==============================] - 0s 5ms/step - loss: 1.1885 - accuracy: 0.6509 - val_loss: 1.8665 - val_accuracy: 0.3830\n",
      "Epoch 110/200\n",
      "7/7 [==============================] - 0s 4ms/step - loss: 1.1916 - accuracy: 0.6355 - val_loss: 1.8760 - val_accuracy: 0.3723\n",
      "Epoch 111/200\n",
      "7/7 [==============================] - 0s 5ms/step - loss: 1.1522 - accuracy: 0.6568 - val_loss: 1.8812 - val_accuracy: 0.3617\n",
      "Epoch 112/200\n",
      "7/7 [==============================] - 0s 8ms/step - loss: 1.1274 - accuracy: 0.6627 - val_loss: 1.8678 - val_accuracy: 0.3830\n",
      "Epoch 113/200\n",
      "7/7 [==============================] - 0s 6ms/step - loss: 1.1264 - accuracy: 0.6615 - val_loss: 1.8859 - val_accuracy: 0.3830\n",
      "Epoch 114/200\n",
      "7/7 [==============================] - 0s 5ms/step - loss: 1.1360 - accuracy: 0.6509 - val_loss: 1.9109 - val_accuracy: 0.3617\n",
      "Epoch 115/200\n",
      "7/7 [==============================] - 0s 6ms/step - loss: 1.1410 - accuracy: 0.6533 - val_loss: 1.9166 - val_accuracy: 0.3617\n",
      "Epoch 116/200\n",
      "7/7 [==============================] - 0s 5ms/step - loss: 1.1344 - accuracy: 0.6509 - val_loss: 1.9250 - val_accuracy: 0.3617\n",
      "Epoch 117/200\n"
     ]
    },
    {
     "name": "stdout",
     "output_type": "stream",
     "text": [
      "7/7 [==============================] - 0s 8ms/step - loss: 1.1282 - accuracy: 0.6627 - val_loss: 1.9157 - val_accuracy: 0.3723\n",
      "Epoch 118/200\n",
      "7/7 [==============================] - 0s 5ms/step - loss: 1.1158 - accuracy: 0.6497 - val_loss: 1.9072 - val_accuracy: 0.3723\n",
      "Epoch 119/200\n",
      "7/7 [==============================] - 0s 5ms/step - loss: 1.1322 - accuracy: 0.6497 - val_loss: 1.9108 - val_accuracy: 0.3830\n",
      "Epoch 120/200\n",
      "7/7 [==============================] - 0s 4ms/step - loss: 1.1134 - accuracy: 0.6580 - val_loss: 1.9248 - val_accuracy: 0.3723\n",
      "Epoch 121/200\n",
      "7/7 [==============================] - 0s 5ms/step - loss: 1.1053 - accuracy: 0.6757 - val_loss: 1.9183 - val_accuracy: 0.3723\n",
      "Epoch 122/200\n",
      "7/7 [==============================] - 0s 8ms/step - loss: 1.0965 - accuracy: 0.6651 - val_loss: 1.8983 - val_accuracy: 0.4043\n",
      "Epoch 123/200\n",
      "7/7 [==============================] - 0s 6ms/step - loss: 1.0939 - accuracy: 0.6710 - val_loss: 1.8935 - val_accuracy: 0.4043\n",
      "Epoch 124/200\n",
      "7/7 [==============================] - 0s 5ms/step - loss: 1.1102 - accuracy: 0.6592 - val_loss: 1.8945 - val_accuracy: 0.4043\n",
      "Epoch 125/200\n",
      "7/7 [==============================] - 0s 4ms/step - loss: 1.0755 - accuracy: 0.6604 - val_loss: 1.8947 - val_accuracy: 0.3830\n",
      "Epoch 126/200\n",
      "7/7 [==============================] - 0s 5ms/step - loss: 1.0411 - accuracy: 0.6757 - val_loss: 1.9243 - val_accuracy: 0.3723\n",
      "Epoch 127/200\n",
      "7/7 [==============================] - 0s 5ms/step - loss: 1.0807 - accuracy: 0.6781 - val_loss: 1.9223 - val_accuracy: 0.3723\n",
      "Epoch 128/200\n",
      "7/7 [==============================] - 0s 6ms/step - loss: 1.0686 - accuracy: 0.6793 - val_loss: 1.9233 - val_accuracy: 0.3723\n",
      "Epoch 129/200\n",
      "7/7 [==============================] - 0s 8ms/step - loss: 1.0583 - accuracy: 0.6864 - val_loss: 1.9325 - val_accuracy: 0.3830\n",
      "Epoch 130/200\n",
      "7/7 [==============================] - 0s 6ms/step - loss: 1.0631 - accuracy: 0.6698 - val_loss: 1.9110 - val_accuracy: 0.3723\n",
      "Epoch 131/200\n",
      "7/7 [==============================] - 0s 5ms/step - loss: 1.0651 - accuracy: 0.6592 - val_loss: 1.9248 - val_accuracy: 0.3723\n",
      "Epoch 132/200\n",
      "7/7 [==============================] - 0s 8ms/step - loss: 1.0393 - accuracy: 0.6746 - val_loss: 1.9472 - val_accuracy: 0.3723\n",
      "Epoch 133/200\n",
      "7/7 [==============================] - 0s 5ms/step - loss: 1.0449 - accuracy: 0.6757 - val_loss: 1.9246 - val_accuracy: 0.3617\n",
      "Epoch 134/200\n",
      "7/7 [==============================] - 0s 5ms/step - loss: 1.0613 - accuracy: 0.6746 - val_loss: 1.9172 - val_accuracy: 0.3936\n",
      "Epoch 135/200\n",
      "7/7 [==============================] - 0s 6ms/step - loss: 1.0380 - accuracy: 0.6852 - val_loss: 1.9169 - val_accuracy: 0.4043\n",
      "Epoch 136/200\n",
      "7/7 [==============================] - 0s 8ms/step - loss: 1.0201 - accuracy: 0.7053 - val_loss: 1.9497 - val_accuracy: 0.3723\n",
      "Epoch 137/200\n",
      "7/7 [==============================] - 0s 6ms/step - loss: 1.0390 - accuracy: 0.6959 - val_loss: 1.9342 - val_accuracy: 0.3830\n",
      "Epoch 138/200\n",
      "7/7 [==============================] - 0s 5ms/step - loss: 1.0418 - accuracy: 0.6734 - val_loss: 1.9104 - val_accuracy: 0.4043\n",
      "Epoch 139/200\n",
      "7/7 [==============================] - 0s 8ms/step - loss: 1.0136 - accuracy: 0.6793 - val_loss: 1.9070 - val_accuracy: 0.4043\n",
      "Epoch 140/200\n",
      "7/7 [==============================] - 0s 6ms/step - loss: 1.0232 - accuracy: 0.6959 - val_loss: 1.9274 - val_accuracy: 0.4043\n",
      "Epoch 141/200\n",
      "7/7 [==============================] - 0s 5ms/step - loss: 0.9929 - accuracy: 0.6994 - val_loss: 1.9113 - val_accuracy: 0.4255\n",
      "Epoch 142/200\n",
      "7/7 [==============================] - 0s 5ms/step - loss: 0.9845 - accuracy: 0.7053 - val_loss: 1.9194 - val_accuracy: 0.3830\n",
      "Epoch 143/200\n",
      "7/7 [==============================] - 0s 5ms/step - loss: 1.0225 - accuracy: 0.7030 - val_loss: 1.9458 - val_accuracy: 0.4043\n",
      "Epoch 144/200\n",
      "7/7 [==============================] - 0s 8ms/step - loss: 0.9993 - accuracy: 0.7041 - val_loss: 1.9666 - val_accuracy: 0.3830\n",
      "Epoch 145/200\n",
      "7/7 [==============================] - 0s 6ms/step - loss: 0.9662 - accuracy: 0.7101 - val_loss: 1.9787 - val_accuracy: 0.4149\n",
      "Epoch 146/200\n",
      "7/7 [==============================] - 0s 8ms/step - loss: 0.9886 - accuracy: 0.6828 - val_loss: 1.9907 - val_accuracy: 0.3723\n",
      "Epoch 147/200\n",
      "7/7 [==============================] - 0s 6ms/step - loss: 0.9759 - accuracy: 0.7041 - val_loss: 1.9800 - val_accuracy: 0.3723\n",
      "Epoch 148/200\n",
      "7/7 [==============================] - 0s 5ms/step - loss: 0.9624 - accuracy: 0.7183 - val_loss: 1.9779 - val_accuracy: 0.3723\n",
      "Epoch 149/200\n",
      "7/7 [==============================] - 0s 5ms/step - loss: 0.9987 - accuracy: 0.6935 - val_loss: 1.9654 - val_accuracy: 0.3830\n",
      "Epoch 150/200\n",
      "7/7 [==============================] - 0s 6ms/step - loss: 0.9909 - accuracy: 0.6959 - val_loss: 1.9622 - val_accuracy: 0.3830\n",
      "Epoch 151/200\n",
      "7/7 [==============================] - 0s 5ms/step - loss: 0.9712 - accuracy: 0.7065 - val_loss: 1.9774 - val_accuracy: 0.4043\n",
      "Epoch 152/200\n",
      "7/7 [==============================] - 0s 6ms/step - loss: 0.9675 - accuracy: 0.7041 - val_loss: 1.9839 - val_accuracy: 0.4043\n",
      "Epoch 153/200\n",
      "7/7 [==============================] - 0s 8ms/step - loss: 0.9758 - accuracy: 0.6935 - val_loss: 1.9962 - val_accuracy: 0.3830\n",
      "Epoch 154/200\n",
      "7/7 [==============================] - 0s 8ms/step - loss: 0.9471 - accuracy: 0.7077 - val_loss: 2.0123 - val_accuracy: 0.3936\n",
      "Epoch 155/200\n",
      "7/7 [==============================] - 0s 5ms/step - loss: 0.9581 - accuracy: 0.7089 - val_loss: 2.0270 - val_accuracy: 0.3830\n",
      "Epoch 156/200\n",
      "7/7 [==============================] - 0s 5ms/step - loss: 0.9567 - accuracy: 0.6947 - val_loss: 2.0067 - val_accuracy: 0.3723\n",
      "Epoch 157/200\n",
      "7/7 [==============================] - 0s 6ms/step - loss: 0.9420 - accuracy: 0.7243 - val_loss: 1.9917 - val_accuracy: 0.3723\n",
      "Epoch 158/200\n",
      "7/7 [==============================] - 0s 8ms/step - loss: 0.9535 - accuracy: 0.7219 - val_loss: 1.9804 - val_accuracy: 0.3723\n",
      "Epoch 159/200\n",
      "7/7 [==============================] - 0s 6ms/step - loss: 0.9510 - accuracy: 0.7172 - val_loss: 1.9754 - val_accuracy: 0.3723\n",
      "Epoch 160/200\n",
      "7/7 [==============================] - 0s 5ms/step - loss: 0.9581 - accuracy: 0.6876 - val_loss: 1.9907 - val_accuracy: 0.4255\n",
      "Epoch 161/200\n",
      "7/7 [==============================] - 0s 5ms/step - loss: 0.9177 - accuracy: 0.7432 - val_loss: 1.9938 - val_accuracy: 0.4255\n",
      "Epoch 162/200\n",
      "7/7 [==============================] - 0s 6ms/step - loss: 0.9424 - accuracy: 0.7172 - val_loss: 2.0516 - val_accuracy: 0.4043\n",
      "Epoch 163/200\n",
      "7/7 [==============================] - 0s 8ms/step - loss: 0.9455 - accuracy: 0.7089 - val_loss: 2.0648 - val_accuracy: 0.3936\n",
      "Epoch 164/200\n",
      "7/7 [==============================] - 0s 6ms/step - loss: 0.9211 - accuracy: 0.7278 - val_loss: 2.0735 - val_accuracy: 0.3723\n",
      "Epoch 165/200\n",
      "7/7 [==============================] - 0s 5ms/step - loss: 0.9149 - accuracy: 0.7337 - val_loss: 2.0543 - val_accuracy: 0.3723\n",
      "Epoch 166/200\n",
      "7/7 [==============================] - 0s 5ms/step - loss: 0.9443 - accuracy: 0.7006 - val_loss: 2.0732 - val_accuracy: 0.3723\n",
      "Epoch 167/200\n",
      "7/7 [==============================] - 0s 6ms/step - loss: 0.9341 - accuracy: 0.7112 - val_loss: 2.0730 - val_accuracy: 0.3936\n",
      "Epoch 168/200\n",
      "7/7 [==============================] - 0s 5ms/step - loss: 0.9321 - accuracy: 0.7219 - val_loss: 2.0744 - val_accuracy: 0.3936\n",
      "Epoch 169/200\n",
      "7/7 [==============================] - 0s 6ms/step - loss: 0.9092 - accuracy: 0.7243 - val_loss: 2.0450 - val_accuracy: 0.3936\n",
      "Epoch 170/200\n",
      "7/7 [==============================] - 0s 8ms/step - loss: 0.9002 - accuracy: 0.7361 - val_loss: 2.0544 - val_accuracy: 0.3830\n",
      "Epoch 171/200\n",
      "7/7 [==============================] - 0s 8ms/step - loss: 0.9250 - accuracy: 0.7207 - val_loss: 2.0784 - val_accuracy: 0.3830\n",
      "Epoch 172/200\n",
      "7/7 [==============================] - 0s 5ms/step - loss: 0.9189 - accuracy: 0.7053 - val_loss: 2.0458 - val_accuracy: 0.3617\n",
      "Epoch 173/200\n",
      "7/7 [==============================] - 0s 8ms/step - loss: 0.9183 - accuracy: 0.7077 - val_loss: 2.0407 - val_accuracy: 0.3936\n",
      "Epoch 174/200\n",
      "7/7 [==============================] - 0s 6ms/step - loss: 0.8842 - accuracy: 0.7207 - val_loss: 2.0601 - val_accuracy: 0.3830\n",
      "Epoch 175/200\n"
     ]
    },
    {
     "name": "stdout",
     "output_type": "stream",
     "text": [
      "7/7 [==============================] - 0s 5ms/step - loss: 0.8940 - accuracy: 0.7266 - val_loss: 2.0590 - val_accuracy: 0.3936\n",
      "Epoch 176/200\n",
      "7/7 [==============================] - 0s 6ms/step - loss: 0.8813 - accuracy: 0.7243 - val_loss: 2.0694 - val_accuracy: 0.3936\n",
      "Epoch 177/200\n",
      "7/7 [==============================] - 0s 5ms/step - loss: 0.8795 - accuracy: 0.7361 - val_loss: 2.0632 - val_accuracy: 0.3723\n",
      "Epoch 178/200\n",
      "7/7 [==============================] - 0s 8ms/step - loss: 0.9097 - accuracy: 0.7361 - val_loss: 2.0672 - val_accuracy: 0.3830\n",
      "Epoch 179/200\n",
      "7/7 [==============================] - 0s 6ms/step - loss: 0.8573 - accuracy: 0.7562 - val_loss: 2.0861 - val_accuracy: 0.3617\n",
      "Epoch 180/200\n",
      "7/7 [==============================] - 0s 5ms/step - loss: 0.8841 - accuracy: 0.7527 - val_loss: 2.0907 - val_accuracy: 0.3511\n",
      "Epoch 181/200\n",
      "7/7 [==============================] - 0s 6ms/step - loss: 0.9042 - accuracy: 0.7243 - val_loss: 2.0532 - val_accuracy: 0.3830\n",
      "Epoch 182/200\n",
      "7/7 [==============================] - 0s 5ms/step - loss: 0.8657 - accuracy: 0.7432 - val_loss: 2.0288 - val_accuracy: 0.4468\n",
      "Epoch 183/200\n",
      "7/7 [==============================] - 0s 5ms/step - loss: 0.8826 - accuracy: 0.7420 - val_loss: 2.0299 - val_accuracy: 0.4043\n",
      "Epoch 184/200\n",
      "7/7 [==============================] - 0s 6ms/step - loss: 0.8678 - accuracy: 0.7219 - val_loss: 2.0529 - val_accuracy: 0.4043\n",
      "Epoch 185/200\n",
      "7/7 [==============================] - 0s 8ms/step - loss: 0.8485 - accuracy: 0.7456 - val_loss: 2.0603 - val_accuracy: 0.3936\n",
      "Epoch 186/200\n",
      "7/7 [==============================] - 0s 6ms/step - loss: 0.8614 - accuracy: 0.7444 - val_loss: 2.0485 - val_accuracy: 0.3936\n",
      "Epoch 187/200\n",
      "7/7 [==============================] - 0s 5ms/step - loss: 0.8663 - accuracy: 0.7266 - val_loss: 2.0399 - val_accuracy: 0.4043\n",
      "Epoch 188/200\n",
      "7/7 [==============================] - 0s 6ms/step - loss: 0.8812 - accuracy: 0.7195 - val_loss: 2.0586 - val_accuracy: 0.3936\n",
      "Epoch 189/200\n",
      "7/7 [==============================] - 0s 5ms/step - loss: 0.8338 - accuracy: 0.7432 - val_loss: 2.0517 - val_accuracy: 0.3936\n",
      "Epoch 190/200\n",
      "7/7 [==============================] - 0s 5ms/step - loss: 0.8364 - accuracy: 0.7503 - val_loss: 2.0494 - val_accuracy: 0.3936\n",
      "Epoch 191/200\n",
      "7/7 [==============================] - 0s 6ms/step - loss: 0.8328 - accuracy: 0.7550 - val_loss: 2.0759 - val_accuracy: 0.3830\n",
      "Epoch 192/200\n",
      "7/7 [==============================] - 0s 5ms/step - loss: 0.8165 - accuracy: 0.7503 - val_loss: 2.0909 - val_accuracy: 0.3830\n",
      "Epoch 193/200\n",
      "7/7 [==============================] - 0s 6ms/step - loss: 0.8316 - accuracy: 0.7503 - val_loss: 2.1059 - val_accuracy: 0.4043\n",
      "Epoch 194/200\n",
      "7/7 [==============================] - 0s 5ms/step - loss: 0.8249 - accuracy: 0.7432 - val_loss: 2.0962 - val_accuracy: 0.4043\n",
      "Epoch 195/200\n",
      "7/7 [==============================] - 0s 5ms/step - loss: 0.8323 - accuracy: 0.7503 - val_loss: 2.1044 - val_accuracy: 0.4043\n",
      "Epoch 196/200\n",
      "7/7 [==============================] - 0s 9ms/step - loss: 0.8210 - accuracy: 0.7550 - val_loss: 2.0883 - val_accuracy: 0.3936\n",
      "Epoch 197/200\n",
      "7/7 [==============================] - 0s 8ms/step - loss: 0.8268 - accuracy: 0.7491 - val_loss: 2.0994 - val_accuracy: 0.3830\n",
      "Epoch 198/200\n",
      "7/7 [==============================] - 0s 6ms/step - loss: 0.8263 - accuracy: 0.7456 - val_loss: 2.1173 - val_accuracy: 0.4043\n",
      "Epoch 199/200\n",
      "7/7 [==============================] - 0s 5ms/step - loss: 0.8481 - accuracy: 0.7231 - val_loss: 2.1354 - val_accuracy: 0.4043\n",
      "Epoch 200/200\n",
      "7/7 [==============================] - 0s 6ms/step - loss: 0.7865 - accuracy: 0.7645 - val_loss: 2.1105 - val_accuracy: 0.3830\n"
     ]
    },
    {
     "data": {
      "text/plain": [
       "<keras.callbacks.History at 0x28a123ef850>"
      ]
     },
     "execution_count": 18,
     "metadata": {},
     "output_type": "execute_result"
    }
   ],
   "source": [
    "model.fit(moves,pred, batch_size=128,\n",
    "          epochs=200,  callbacks=[callback], validation_split=0.1)"
   ]
  },
  {
   "cell_type": "code",
   "execution_count": 196,
   "id": "502f9b18",
   "metadata": {},
   "outputs": [],
   "source": [
    "#Board to give model to predict next move\n",
    "new_board = [[0., 0., 0., 0., 0., 0., 0.],\n",
    "[0., 0., 0., 0., 0., 0., 0.],\n",
    "[0., 0., 0., 0., 0., 0., 0.],\n",
    "[0., 0., 0., 0., 0., 0., 0.],\n",
    "[0., 0., 0., 0., 0., 0., 0.],\n",
    "[0., 0., 0., 0., 0., 0., 0.]]"
   ]
  },
  {
   "cell_type": "code",
   "execution_count": 197,
   "id": "f3a3b843",
   "metadata": {},
   "outputs": [],
   "source": [
    "#Reshaped input board for model\n",
    "shaped_board = np.array(new_board).reshape(1, 42)"
   ]
  },
  {
   "cell_type": "code",
   "execution_count": 198,
   "id": "5bbff763",
   "metadata": {},
   "outputs": [
    {
     "name": "stdout",
     "output_type": "stream",
     "text": [
      "1/1 [==============================] - 0s 0s/step\n"
     ]
    },
    {
     "data": {
      "text/plain": [
       "<matplotlib.image.AxesImage at 0x28a168cf250>"
      ]
     },
     "execution_count": 198,
     "metadata": {},
     "output_type": "execute_result"
    },
    {
     "data": {
      "image/png": "[encoded data removed]",
      "text/plain": [
       "<Figure size 432x288 with 1 Axes>"
      ]
     },
     "metadata": {
      "needs_background": "light"
     },
     "output_type": "display_data"
    }
   ],
   "source": [
    "#Predict the next move and output heat map\n",
    "predicted = model.predict(shaped_board)\n",
    "plt.imshow(predicted.reshape(6,7))"
   ]
  },
  {
   "cell_type": "code",
   "execution_count": 190,
   "id": "68ef2368",
   "metadata": {},
   "outputs": [],
   "source": [
    "out = deepcopy(predicted)"
   ]
  },
  {
   "cell_type": "code",
   "execution_count": 191,
   "id": "8c3de6ee",
   "metadata": {},
   "outputs": [
    {
     "data": {
      "text/plain": [
       "37"
      ]
     },
     "execution_count": 191,
     "metadata": {},
     "output_type": "execute_result"
    }
   ],
   "source": [
    "#Decide on highest probability move\n",
    "value = out.argmax(axis=1)\n",
    "while shaped_board[0][value] == 1:\n",
    "    out[0][value] = 0\n",
    "    value = out.argmax(axis=1)\n",
    "value[0]"
   ]
  },
  {
   "cell_type": "code",
   "execution_count": 192,
   "id": "0b33c0cc",
   "metadata": {},
   "outputs": [
    {
     "data": {
      "text/plain": [
       "array([[0., 0., 0., 0., 0., 0., 0.],\n",
       "       [0., 0., 0., 0., 0., 0., 0.],\n",
       "       [0., 0., 0., 0., 0., 0., 0.],\n",
       "       [0., 0., 0., 0., 0., 0., 0.],\n",
       "       [0., 0., 0., 0., 0., 0., 0.],\n",
       "       [0., 0., 1., 0., 0., 0., 0.]], dtype=float32)"
      ]
     },
     "execution_count": 192,
     "metadata": {},
     "output_type": "execute_result"
    }
   ],
   "source": [
    "#Output next move \n",
    "space = 0\n",
    "while space < 42:\n",
    "    if space == value:\n",
    "        out[0][space] = 1\n",
    "    else:\n",
    "        out[0][space] = 0\n",
    "    space = space + 1\n",
    "out.reshape(6,7)"
   ]
  },
  {
   "cell_type": "code",
   "execution_count": null,
   "id": "f7db3e2c",
   "metadata": {},
   "outputs": [],
   "source": []
  }
 ],
 "metadata": {
  "kernelspec": {
   "display_name": "Python 3 (ipykernel)",
   "language": "python",
   "name": "python3"
  },
  "language_info": {
   "codemirror_mode": {
    "name": "ipython",
    "version": 3
   },
   "file_extension": ".py",
   "mimetype": "text/x-python",
   "name": "python",
   "nbconvert_exporter": "python",
   "pygments_lexer": "ipython3",
   "version": "3.9.12"
  }
 },
 "nbformat": 4,
 "nbformat_minor": 5
}
