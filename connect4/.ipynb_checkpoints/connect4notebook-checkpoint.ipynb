{
 "cells": [
  {
   "cell_type": "code",
   "execution_count": 1,
   "id": "489f324a",
   "metadata": {},
   "outputs": [],
   "source": [
    "import numpy as np\n",
    "import tensorflow as tf\n",
    "from tensorflow import keras\n",
    "from keras.models import Sequential\n",
    "from keras.layers import Dense, Dropout\n",
    "from keras.callbacks import EarlyStopping"
   ]
  },
  {
   "cell_type": "code",
   "execution_count": 2,
   "id": "42e003ad",
   "metadata": {},
   "outputs": [],
   "source": [
    "import pickle"
   ]
  },
  {
   "cell_type": "code",
   "execution_count": 3,
   "id": "d8604e14",
   "metadata": {},
   "outputs": [],
   "source": [
    "with open('boards.pkl','rb') as f: boards = pickle.load(f)"
   ]
  },
  {
   "cell_type": "code",
   "execution_count": 4,
   "id": "20cee9a6",
   "metadata": {},
   "outputs": [],
   "source": [
    "import matplotlib.pyplot as plt"
   ]
  },
  {
   "cell_type": "code",
   "execution_count": 5,
   "id": "f81cd327",
   "metadata": {
    "scrolled": false
   },
   "outputs": [],
   "source": [
    "#for MOVE in range(boards.shape[0]):\n",
    "    #plt.figure()\n",
    "    #plt.imshow(boards[MOVE])"
   ]
  },
  {
   "cell_type": "code",
   "execution_count": 6,
   "id": "0a255e0a",
   "metadata": {},
   "outputs": [],
   "source": [
    "from copy import deepcopy"
   ]
  },
  {
   "cell_type": "code",
   "execution_count": 7,
   "id": "f9b1398a",
   "metadata": {},
   "outputs": [],
   "source": [
    "moves = []\n",
    "pred = []\n",
    "for MOVE in range(boards.shape[0] - 1):\n",
    "    moves.append(boards[MOVE].reshape(6*7))\n",
    "    pred.append(deepcopy(boards[MOVE+1].reshape(6*7)))"
   ]
  },
  {
   "cell_type": "code",
   "execution_count": 8,
   "id": "f9b09258",
   "metadata": {},
   "outputs": [],
   "source": [
    "#Normalize pred\n",
    "for MOVE in range(boards.shape[0] - 1):\n",
    "    pred[MOVE] -= deepcopy(moves[MOVE])\n",
    "    if pred[MOVE].sum() > 1:\n",
    "        pred[MOVE] /= 2"
   ]
  },
  {
   "cell_type": "code",
   "execution_count": 9,
   "id": "2fe4eade",
   "metadata": {},
   "outputs": [],
   "source": [
    "moves = np.array(moves)\n",
    "pred = np.array(pred)"
   ]
  },
  {
   "cell_type": "code",
   "execution_count": 10,
   "id": "f9392769",
   "metadata": {},
   "outputs": [],
   "source": [
    "#Remove transitions between games\n",
    "index = np.abs(pred.sum(1)) == 1\n",
    "moves = moves[index]\n",
    "pred = pred[index]"
   ]
  },
  {
   "cell_type": "code",
   "execution_count": 21,
   "id": "62df7c9d",
   "metadata": {},
   "outputs": [
    {
     "data": {
      "text/plain": [
       "array([0., 0., 0., 0., 0., 0., 0., 0., 0., 0., 0., 0., 0., 0., 0., 0., 0.,\n",
       "       0., 0., 0., 0., 0., 0., 0., 0., 0., 0., 0., 0., 0., 2., 0., 0., 0.,\n",
       "       0., 0., 0., 1., 0., 0., 0., 0.])"
      ]
     },
     "execution_count": 21,
     "metadata": {},
     "output_type": "execute_result"
    }
   ],
   "source": [
    "moves[2]"
   ]
  },
  {
   "cell_type": "code",
   "execution_count": 22,
   "id": "940d87d4",
   "metadata": {},
   "outputs": [
    {
     "data": {
      "text/plain": [
       "array([0., 0., 0., 0., 0., 0., 0., 0., 0., 0., 0., 0., 0., 0., 0., 0., 0.,\n",
       "       0., 0., 0., 0., 0., 0., 0., 0., 0., 0., 0., 0., 0., 0., 0., 0., 0.,\n",
       "       0., 0., 0., 0., 1., 0., 0., 0.])"
      ]
     },
     "execution_count": 22,
     "metadata": {},
     "output_type": "execute_result"
    }
   ],
   "source": [
    "pred[2]"
   ]
  },
  {
   "cell_type": "code",
   "execution_count": 11,
   "id": "3f9de622",
   "metadata": {},
   "outputs": [],
   "source": [
    "model = Sequential()\n",
    "callback = tf.keras.callbacks.EarlyStopping(monitor='loss', patience=8)\n",
    "model.add(keras.Input(shape=(42)))\n",
    "model.add(Dense(200, activation='relu'))\n",
    "model.add(Dropout(0.3))\n",
    "\n",
    "model.add(Dense(42, activation='softmax'))\n",
    "\n",
    "model.compile(optimizer='adam',\n",
    "              loss='categorical_crossentropy',\n",
    "              metrics=['accuracy'])\n"
   ]
  },
  {
   "cell_type": "code",
   "execution_count": 12,
   "id": "74170619",
   "metadata": {},
   "outputs": [
    {
     "name": "stdout",
     "output_type": "stream",
     "text": [
      "Model: \"sequential\"\n",
      "_________________________________________________________________\n",
      " Layer (type)                Output Shape              Param #   \n",
      "=================================================================\n",
      " dense (Dense)               (None, 200)               8600      \n",
      "                                                                 \n",
      " dropout (Dropout)           (None, 200)               0         \n",
      "                                                                 \n",
      " dense_1 (Dense)             (None, 42)                8442      \n",
      "                                                                 \n",
      "=================================================================\n",
      "Total params: 17,042\n",
      "Trainable params: 17,042\n",
      "Non-trainable params: 0\n",
      "_________________________________________________________________\n"
     ]
    }
   ],
   "source": [
    "model.summary()"
   ]
  },
  {
   "cell_type": "code",
   "execution_count": 13,
   "id": "aeaaaecf",
   "metadata": {},
   "outputs": [
    {
     "name": "stdout",
     "output_type": "stream",
     "text": [
      "Epoch 1/200\n",
      "7/7 [==============================] - 1s 53ms/step - loss: 3.8696 - accuracy: 0.0213 - val_loss: 3.7760 - val_accuracy: 0.0213\n",
      "Epoch 2/200\n",
      "7/7 [==============================] - 0s 10ms/step - loss: 3.7347 - accuracy: 0.0533 - val_loss: 3.6902 - val_accuracy: 0.0638\n",
      "Epoch 3/200\n",
      "7/7 [==============================] - 0s 7ms/step - loss: 3.6364 - accuracy: 0.0710 - val_loss: 3.6283 - val_accuracy: 0.1064\n",
      "Epoch 4/200\n",
      "7/7 [==============================] - 0s 6ms/step - loss: 3.5512 - accuracy: 0.1053 - val_loss: 3.5740 - val_accuracy: 0.1170\n",
      "Epoch 5/200\n",
      "7/7 [==============================] - 0s 6ms/step - loss: 3.4768 - accuracy: 0.1314 - val_loss: 3.5221 - val_accuracy: 0.1277\n",
      "Epoch 6/200\n",
      "7/7 [==============================] - 0s 6ms/step - loss: 3.4345 - accuracy: 0.1266 - val_loss: 3.4695 - val_accuracy: 0.1596\n",
      "Epoch 7/200\n",
      "7/7 [==============================] - 0s 6ms/step - loss: 3.3465 - accuracy: 0.1609 - val_loss: 3.4171 - val_accuracy: 0.1702\n",
      "Epoch 8/200\n",
      "7/7 [==============================] - 0s 7ms/step - loss: 3.2836 - accuracy: 0.1680 - val_loss: 3.3565 - val_accuracy: 0.1915\n",
      "Epoch 9/200\n",
      "7/7 [==============================] - 0s 6ms/step - loss: 3.2121 - accuracy: 0.1846 - val_loss: 3.3024 - val_accuracy: 0.1702\n",
      "Epoch 10/200\n",
      "7/7 [==============================] - 0s 6ms/step - loss: 3.1569 - accuracy: 0.1941 - val_loss: 3.2536 - val_accuracy: 0.1915\n",
      "Epoch 11/200\n",
      "7/7 [==============================] - 0s 6ms/step - loss: 3.0571 - accuracy: 0.2391 - val_loss: 3.2096 - val_accuracy: 0.1915\n",
      "Epoch 12/200\n",
      "7/7 [==============================] - 0s 6ms/step - loss: 2.9938 - accuracy: 0.2450 - val_loss: 3.1521 - val_accuracy: 0.1915\n",
      "Epoch 13/200\n",
      "7/7 [==============================] - 0s 6ms/step - loss: 2.9474 - accuracy: 0.2639 - val_loss: 3.0850 - val_accuracy: 0.1915\n",
      "Epoch 14/200\n",
      "7/7 [==============================] - 0s 7ms/step - loss: 2.8621 - accuracy: 0.2757 - val_loss: 3.0268 - val_accuracy: 0.1915\n",
      "Epoch 15/200\n",
      "7/7 [==============================] - 0s 6ms/step - loss: 2.7925 - accuracy: 0.3030 - val_loss: 2.9761 - val_accuracy: 0.1809\n",
      "Epoch 16/200\n",
      "7/7 [==============================] - 0s 6ms/step - loss: 2.7309 - accuracy: 0.2994 - val_loss: 2.9236 - val_accuracy: 0.1915\n",
      "Epoch 17/200\n",
      "7/7 [==============================] - 0s 6ms/step - loss: 2.6792 - accuracy: 0.3041 - val_loss: 2.8744 - val_accuracy: 0.2021\n",
      "Epoch 18/200\n",
      "7/7 [==============================] - 0s 6ms/step - loss: 2.6093 - accuracy: 0.3183 - val_loss: 2.8180 - val_accuracy: 0.2021\n",
      "Epoch 19/200\n",
      "7/7 [==============================] - 0s 6ms/step - loss: 2.5731 - accuracy: 0.3089 - val_loss: 2.7609 - val_accuracy: 0.2234\n",
      "Epoch 20/200\n",
      "7/7 [==============================] - 0s 6ms/step - loss: 2.5119 - accuracy: 0.3349 - val_loss: 2.7269 - val_accuracy: 0.2021\n",
      "Epoch 21/200\n",
      "7/7 [==============================] - 0s 6ms/step - loss: 2.4819 - accuracy: 0.3278 - val_loss: 2.6871 - val_accuracy: 0.2447\n",
      "Epoch 22/200\n",
      "7/7 [==============================] - 0s 6ms/step - loss: 2.4196 - accuracy: 0.3361 - val_loss: 2.6464 - val_accuracy: 0.2340\n",
      "Epoch 23/200\n",
      "7/7 [==============================] - 0s 14ms/step - loss: 2.3748 - accuracy: 0.3562 - val_loss: 2.6076 - val_accuracy: 0.2553\n",
      "Epoch 24/200\n",
      "7/7 [==============================] - 0s 14ms/step - loss: 2.3411 - accuracy: 0.3420 - val_loss: 2.5697 - val_accuracy: 0.2660\n",
      "Epoch 25/200\n",
      "7/7 [==============================] - 0s 22ms/step - loss: 2.2825 - accuracy: 0.3787 - val_loss: 2.5357 - val_accuracy: 0.2660\n",
      "Epoch 26/200\n",
      "7/7 [==============================] - 0s 9ms/step - loss: 2.2767 - accuracy: 0.3550 - val_loss: 2.4996 - val_accuracy: 0.2660\n",
      "Epoch 27/200\n",
      "7/7 [==============================] - 0s 9ms/step - loss: 2.2253 - accuracy: 0.3598 - val_loss: 2.4636 - val_accuracy: 0.2660\n",
      "Epoch 28/200\n",
      "7/7 [==============================] - 0s 10ms/step - loss: 2.1879 - accuracy: 0.4047 - val_loss: 2.4419 - val_accuracy: 0.2979\n",
      "Epoch 29/200\n",
      "7/7 [==============================] - 0s 10ms/step - loss: 2.1655 - accuracy: 0.4000 - val_loss: 2.4223 - val_accuracy: 0.2872\n",
      "Epoch 30/200\n",
      "7/7 [==============================] - 0s 11ms/step - loss: 2.1086 - accuracy: 0.3905 - val_loss: 2.3903 - val_accuracy: 0.2766\n",
      "Epoch 31/200\n",
      "7/7 [==============================] - 0s 18ms/step - loss: 2.0845 - accuracy: 0.4083 - val_loss: 2.3557 - val_accuracy: 0.3085\n",
      "Epoch 32/200\n",
      "7/7 [==============================] - 0s 16ms/step - loss: 2.0878 - accuracy: 0.3917 - val_loss: 2.3260 - val_accuracy: 0.3404\n",
      "Epoch 33/200\n",
      "7/7 [==============================] - 0s 10ms/step - loss: 2.0038 - accuracy: 0.4473 - val_loss: 2.3054 - val_accuracy: 0.3511\n",
      "Epoch 34/200\n",
      "7/7 [==============================] - 0s 11ms/step - loss: 2.0126 - accuracy: 0.4272 - val_loss: 2.2798 - val_accuracy: 0.3511\n",
      "Epoch 35/200\n",
      "7/7 [==============================] - 0s 12ms/step - loss: 1.9963 - accuracy: 0.4308 - val_loss: 2.2691 - val_accuracy: 0.3511\n",
      "Epoch 36/200\n",
      "7/7 [==============================] - 0s 9ms/step - loss: 1.9729 - accuracy: 0.4308 - val_loss: 2.2560 - val_accuracy: 0.3723\n",
      "Epoch 37/200\n",
      "7/7 [==============================] - 0s 8ms/step - loss: 1.9306 - accuracy: 0.4391 - val_loss: 2.2366 - val_accuracy: 0.3617\n",
      "Epoch 38/200\n",
      "7/7 [==============================] - 0s 10ms/step - loss: 1.9085 - accuracy: 0.4533 - val_loss: 2.2147 - val_accuracy: 0.3617\n",
      "Epoch 39/200\n",
      "7/7 [==============================] - 0s 8ms/step - loss: 1.9028 - accuracy: 0.4497 - val_loss: 2.1977 - val_accuracy: 0.3617\n",
      "Epoch 40/200\n",
      "7/7 [==============================] - 0s 7ms/step - loss: 1.8486 - accuracy: 0.4426 - val_loss: 2.1653 - val_accuracy: 0.3830\n",
      "Epoch 41/200\n",
      "7/7 [==============================] - 0s 7ms/step - loss: 1.8520 - accuracy: 0.4438 - val_loss: 2.1504 - val_accuracy: 0.3511\n",
      "Epoch 42/200\n",
      "7/7 [==============================] - 0s 7ms/step - loss: 1.8338 - accuracy: 0.4686 - val_loss: 2.1531 - val_accuracy: 0.3617\n",
      "Epoch 43/200\n",
      "7/7 [==============================] - 0s 7ms/step - loss: 1.8151 - accuracy: 0.4509 - val_loss: 2.1395 - val_accuracy: 0.3511\n",
      "Epoch 44/200\n",
      "7/7 [==============================] - 0s 8ms/step - loss: 1.8150 - accuracy: 0.4521 - val_loss: 2.1187 - val_accuracy: 0.3617\n",
      "Epoch 45/200\n",
      "7/7 [==============================] - 0s 8ms/step - loss: 1.7979 - accuracy: 0.4828 - val_loss: 2.1099 - val_accuracy: 0.3617\n",
      "Epoch 46/200\n",
      "7/7 [==============================] - 0s 8ms/step - loss: 1.7710 - accuracy: 0.4805 - val_loss: 2.1018 - val_accuracy: 0.3830\n",
      "Epoch 47/200\n",
      "7/7 [==============================] - 0s 7ms/step - loss: 1.7478 - accuracy: 0.5112 - val_loss: 2.0905 - val_accuracy: 0.3511\n",
      "Epoch 48/200\n",
      "7/7 [==============================] - 0s 5ms/step - loss: 1.7195 - accuracy: 0.4769 - val_loss: 2.0812 - val_accuracy: 0.3511\n",
      "Epoch 49/200\n",
      "7/7 [==============================] - 0s 6ms/step - loss: 1.6951 - accuracy: 0.4911 - val_loss: 2.0677 - val_accuracy: 0.3511\n",
      "Epoch 50/200\n",
      "7/7 [==============================] - 0s 6ms/step - loss: 1.7064 - accuracy: 0.4888 - val_loss: 2.0495 - val_accuracy: 0.3723\n",
      "Epoch 51/200\n",
      "7/7 [==============================] - 0s 6ms/step - loss: 1.6508 - accuracy: 0.5219 - val_loss: 2.0580 - val_accuracy: 0.3511\n",
      "Epoch 52/200\n",
      "7/7 [==============================] - 0s 5ms/step - loss: 1.6790 - accuracy: 0.5006 - val_loss: 2.0409 - val_accuracy: 0.3511\n",
      "Epoch 53/200\n",
      "7/7 [==============================] - 0s 6ms/step - loss: 1.6683 - accuracy: 0.5018 - val_loss: 2.0198 - val_accuracy: 0.3617\n",
      "Epoch 54/200\n",
      "7/7 [==============================] - 0s 6ms/step - loss: 1.6551 - accuracy: 0.4911 - val_loss: 2.0228 - val_accuracy: 0.3723\n",
      "Epoch 55/200\n",
      "7/7 [==============================] - 0s 6ms/step - loss: 1.6328 - accuracy: 0.4994 - val_loss: 2.0321 - val_accuracy: 0.3936\n",
      "Epoch 56/200\n",
      "7/7 [==============================] - 0s 6ms/step - loss: 1.6054 - accuracy: 0.5207 - val_loss: 2.0060 - val_accuracy: 0.3723\n",
      "Epoch 57/200\n",
      "7/7 [==============================] - 0s 6ms/step - loss: 1.5902 - accuracy: 0.5325 - val_loss: 2.0219 - val_accuracy: 0.3723\n",
      "Epoch 58/200\n",
      "7/7 [==============================] - 0s 6ms/step - loss: 1.5969 - accuracy: 0.5089 - val_loss: 2.0297 - val_accuracy: 0.3617\n",
      "Epoch 59/200\n"
     ]
    },
    {
     "name": "stdout",
     "output_type": "stream",
     "text": [
      "7/7 [==============================] - 0s 6ms/step - loss: 1.5596 - accuracy: 0.5420 - val_loss: 1.9979 - val_accuracy: 0.3617\n",
      "Epoch 60/200\n",
      "7/7 [==============================] - 0s 6ms/step - loss: 1.5837 - accuracy: 0.5231 - val_loss: 1.9645 - val_accuracy: 0.3830\n",
      "Epoch 61/200\n",
      "7/7 [==============================] - 0s 6ms/step - loss: 1.5704 - accuracy: 0.5254 - val_loss: 1.9588 - val_accuracy: 0.3936\n",
      "Epoch 62/200\n",
      "7/7 [==============================] - 0s 6ms/step - loss: 1.5506 - accuracy: 0.5325 - val_loss: 1.9785 - val_accuracy: 0.3936\n",
      "Epoch 63/200\n",
      "7/7 [==============================] - 0s 6ms/step - loss: 1.5409 - accuracy: 0.5420 - val_loss: 1.9742 - val_accuracy: 0.4149\n",
      "Epoch 64/200\n",
      "7/7 [==============================] - 0s 6ms/step - loss: 1.5178 - accuracy: 0.5491 - val_loss: 1.9591 - val_accuracy: 0.4255\n",
      "Epoch 65/200\n",
      "7/7 [==============================] - 0s 6ms/step - loss: 1.5021 - accuracy: 0.5432 - val_loss: 1.9519 - val_accuracy: 0.3830\n",
      "Epoch 66/200\n",
      "7/7 [==============================] - 0s 6ms/step - loss: 1.5171 - accuracy: 0.5314 - val_loss: 1.9556 - val_accuracy: 0.3936\n",
      "Epoch 67/200\n",
      "7/7 [==============================] - 0s 6ms/step - loss: 1.5098 - accuracy: 0.5432 - val_loss: 1.9467 - val_accuracy: 0.3830\n",
      "Epoch 68/200\n",
      "7/7 [==============================] - 0s 6ms/step - loss: 1.4938 - accuracy: 0.5562 - val_loss: 1.9517 - val_accuracy: 0.3936\n",
      "Epoch 69/200\n",
      "7/7 [==============================] - 0s 6ms/step - loss: 1.4630 - accuracy: 0.5680 - val_loss: 1.9274 - val_accuracy: 0.3936\n",
      "Epoch 70/200\n",
      "7/7 [==============================] - 0s 6ms/step - loss: 1.4877 - accuracy: 0.5373 - val_loss: 1.9332 - val_accuracy: 0.3830\n",
      "Epoch 71/200\n",
      "7/7 [==============================] - 0s 6ms/step - loss: 1.4379 - accuracy: 0.5598 - val_loss: 1.9197 - val_accuracy: 0.4043\n",
      "Epoch 72/200\n",
      "7/7 [==============================] - 0s 6ms/step - loss: 1.4614 - accuracy: 0.5609 - val_loss: 1.9136 - val_accuracy: 0.3830\n",
      "Epoch 73/200\n",
      "7/7 [==============================] - 0s 6ms/step - loss: 1.4468 - accuracy: 0.5574 - val_loss: 1.9116 - val_accuracy: 0.3723\n",
      "Epoch 74/200\n",
      "7/7 [==============================] - 0s 7ms/step - loss: 1.4321 - accuracy: 0.5657 - val_loss: 1.9060 - val_accuracy: 0.3936\n",
      "Epoch 75/200\n",
      "7/7 [==============================] - 0s 7ms/step - loss: 1.4246 - accuracy: 0.5467 - val_loss: 1.9032 - val_accuracy: 0.3617\n",
      "Epoch 76/200\n",
      "7/7 [==============================] - 0s 6ms/step - loss: 1.3994 - accuracy: 0.5882 - val_loss: 1.9036 - val_accuracy: 0.3723\n",
      "Epoch 77/200\n",
      "7/7 [==============================] - 0s 6ms/step - loss: 1.3956 - accuracy: 0.5538 - val_loss: 1.9020 - val_accuracy: 0.3723\n",
      "Epoch 78/200\n",
      "7/7 [==============================] - 0s 6ms/step - loss: 1.4008 - accuracy: 0.5645 - val_loss: 1.9050 - val_accuracy: 0.3830\n",
      "Epoch 79/200\n",
      "7/7 [==============================] - 0s 6ms/step - loss: 1.3571 - accuracy: 0.6012 - val_loss: 1.9075 - val_accuracy: 0.3830\n",
      "Epoch 80/200\n",
      "7/7 [==============================] - 0s 6ms/step - loss: 1.3715 - accuracy: 0.5740 - val_loss: 1.9088 - val_accuracy: 0.4149\n",
      "Epoch 81/200\n",
      "7/7 [==============================] - 0s 5ms/step - loss: 1.3680 - accuracy: 0.5929 - val_loss: 1.8977 - val_accuracy: 0.4043\n",
      "Epoch 82/200\n",
      "7/7 [==============================] - 0s 6ms/step - loss: 1.3372 - accuracy: 0.6000 - val_loss: 1.8817 - val_accuracy: 0.3830\n",
      "Epoch 83/200\n",
      "7/7 [==============================] - 0s 6ms/step - loss: 1.3375 - accuracy: 0.5976 - val_loss: 1.8807 - val_accuracy: 0.4149\n",
      "Epoch 84/200\n",
      "7/7 [==============================] - 0s 10ms/step - loss: 1.3488 - accuracy: 0.5882 - val_loss: 1.8984 - val_accuracy: 0.4255\n",
      "Epoch 85/200\n",
      "7/7 [==============================] - 0s 7ms/step - loss: 1.3662 - accuracy: 0.5775 - val_loss: 1.9065 - val_accuracy: 0.4255\n",
      "Epoch 86/200\n",
      "7/7 [==============================] - 0s 11ms/step - loss: 1.3359 - accuracy: 0.5882 - val_loss: 1.8840 - val_accuracy: 0.4043\n",
      "Epoch 87/200\n",
      "7/7 [==============================] - 0s 6ms/step - loss: 1.3335 - accuracy: 0.5917 - val_loss: 1.8938 - val_accuracy: 0.3830\n",
      "Epoch 88/200\n",
      "7/7 [==============================] - 0s 6ms/step - loss: 1.2866 - accuracy: 0.6083 - val_loss: 1.8858 - val_accuracy: 0.3936\n",
      "Epoch 89/200\n",
      "7/7 [==============================] - 0s 6ms/step - loss: 1.3384 - accuracy: 0.5704 - val_loss: 1.8811 - val_accuracy: 0.3723\n",
      "Epoch 90/200\n",
      "7/7 [==============================] - 0s 6ms/step - loss: 1.2923 - accuracy: 0.5929 - val_loss: 1.9031 - val_accuracy: 0.3723\n",
      "Epoch 91/200\n",
      "7/7 [==============================] - 0s 6ms/step - loss: 1.2941 - accuracy: 0.5917 - val_loss: 1.8976 - val_accuracy: 0.4043\n",
      "Epoch 92/200\n",
      "7/7 [==============================] - 0s 6ms/step - loss: 1.3091 - accuracy: 0.5846 - val_loss: 1.8767 - val_accuracy: 0.3936\n",
      "Epoch 93/200\n",
      "7/7 [==============================] - 0s 6ms/step - loss: 1.2575 - accuracy: 0.6379 - val_loss: 1.8766 - val_accuracy: 0.3830\n",
      "Epoch 94/200\n",
      "7/7 [==============================] - 0s 6ms/step - loss: 1.2998 - accuracy: 0.6130 - val_loss: 1.8969 - val_accuracy: 0.3830\n",
      "Epoch 95/200\n",
      "7/7 [==============================] - 0s 6ms/step - loss: 1.2643 - accuracy: 0.6095 - val_loss: 1.8929 - val_accuracy: 0.3723\n",
      "Epoch 96/200\n",
      "7/7 [==============================] - 0s 6ms/step - loss: 1.2413 - accuracy: 0.5964 - val_loss: 1.8760 - val_accuracy: 0.4043\n",
      "Epoch 97/200\n",
      "7/7 [==============================] - 0s 6ms/step - loss: 1.2762 - accuracy: 0.6012 - val_loss: 1.8815 - val_accuracy: 0.3830\n",
      "Epoch 98/200\n",
      "7/7 [==============================] - 0s 5ms/step - loss: 1.2562 - accuracy: 0.6154 - val_loss: 1.8958 - val_accuracy: 0.3723\n",
      "Epoch 99/200\n",
      "7/7 [==============================] - 0s 6ms/step - loss: 1.2660 - accuracy: 0.6118 - val_loss: 1.9125 - val_accuracy: 0.3830\n",
      "Epoch 100/200\n",
      "7/7 [==============================] - 0s 6ms/step - loss: 1.2589 - accuracy: 0.6166 - val_loss: 1.9235 - val_accuracy: 0.3723\n",
      "Epoch 101/200\n",
      "7/7 [==============================] - 0s 6ms/step - loss: 1.2360 - accuracy: 0.6189 - val_loss: 1.9182 - val_accuracy: 0.3723\n",
      "Epoch 102/200\n",
      "7/7 [==============================] - 0s 6ms/step - loss: 1.2555 - accuracy: 0.5941 - val_loss: 1.8995 - val_accuracy: 0.3723\n",
      "Epoch 103/200\n",
      "7/7 [==============================] - 0s 10ms/step - loss: 1.2089 - accuracy: 0.6237 - val_loss: 1.8865 - val_accuracy: 0.3936\n",
      "Epoch 104/200\n",
      "7/7 [==============================] - 0s 10ms/step - loss: 1.2164 - accuracy: 0.6249 - val_loss: 1.8771 - val_accuracy: 0.3511\n",
      "Epoch 105/200\n",
      "7/7 [==============================] - 0s 6ms/step - loss: 1.2207 - accuracy: 0.6249 - val_loss: 1.9080 - val_accuracy: 0.3830\n",
      "Epoch 106/200\n",
      "7/7 [==============================] - 0s 6ms/step - loss: 1.1751 - accuracy: 0.6284 - val_loss: 1.8910 - val_accuracy: 0.3936\n",
      "Epoch 107/200\n",
      "7/7 [==============================] - 0s 12ms/step - loss: 1.2152 - accuracy: 0.6237 - val_loss: 1.8741 - val_accuracy: 0.4149\n",
      "Epoch 108/200\n",
      "7/7 [==============================] - 0s 16ms/step - loss: 1.2026 - accuracy: 0.6071 - val_loss: 1.8753 - val_accuracy: 0.4043\n",
      "Epoch 109/200\n",
      "7/7 [==============================] - 0s 13ms/step - loss: 1.2217 - accuracy: 0.6213 - val_loss: 1.8799 - val_accuracy: 0.4043\n",
      "Epoch 110/200\n",
      "7/7 [==============================] - 0s 12ms/step - loss: 1.1701 - accuracy: 0.6462 - val_loss: 1.8847 - val_accuracy: 0.4043\n",
      "Epoch 111/200\n",
      "7/7 [==============================] - 0s 9ms/step - loss: 1.1681 - accuracy: 0.6355 - val_loss: 1.9163 - val_accuracy: 0.3617\n",
      "Epoch 112/200\n",
      "7/7 [==============================] - 0s 6ms/step - loss: 1.1751 - accuracy: 0.6367 - val_loss: 1.9292 - val_accuracy: 0.3617\n",
      "Epoch 113/200\n",
      "7/7 [==============================] - 0s 6ms/step - loss: 1.1687 - accuracy: 0.6308 - val_loss: 1.9055 - val_accuracy: 0.3723\n",
      "Epoch 114/200\n",
      "7/7 [==============================] - 0s 6ms/step - loss: 1.1907 - accuracy: 0.6225 - val_loss: 1.8898 - val_accuracy: 0.3830\n",
      "Epoch 115/200\n",
      "7/7 [==============================] - 0s 6ms/step - loss: 1.1471 - accuracy: 0.6391 - val_loss: 1.8954 - val_accuracy: 0.3936\n",
      "Epoch 116/200\n",
      "7/7 [==============================] - 0s 6ms/step - loss: 1.1401 - accuracy: 0.6592 - val_loss: 1.9001 - val_accuracy: 0.4043\n",
      "Epoch 117/200\n"
     ]
    },
    {
     "name": "stdout",
     "output_type": "stream",
     "text": [
      "7/7 [==============================] - 0s 7ms/step - loss: 1.1606 - accuracy: 0.6462 - val_loss: 1.9089 - val_accuracy: 0.3723\n",
      "Epoch 118/200\n",
      "7/7 [==============================] - 0s 6ms/step - loss: 1.1531 - accuracy: 0.6450 - val_loss: 1.9102 - val_accuracy: 0.3723\n",
      "Epoch 119/200\n",
      "7/7 [==============================] - 0s 6ms/step - loss: 1.1244 - accuracy: 0.6497 - val_loss: 1.9241 - val_accuracy: 0.3723\n",
      "Epoch 120/200\n",
      "7/7 [==============================] - 0s 6ms/step - loss: 1.1128 - accuracy: 0.6556 - val_loss: 1.8920 - val_accuracy: 0.3723\n",
      "Epoch 121/200\n",
      "7/7 [==============================] - 0s 6ms/step - loss: 1.1362 - accuracy: 0.6355 - val_loss: 1.8809 - val_accuracy: 0.3617\n",
      "Epoch 122/200\n",
      "7/7 [==============================] - 0s 6ms/step - loss: 1.1472 - accuracy: 0.6402 - val_loss: 1.8760 - val_accuracy: 0.3723\n",
      "Epoch 123/200\n",
      "7/7 [==============================] - 0s 6ms/step - loss: 1.1120 - accuracy: 0.6651 - val_loss: 1.8876 - val_accuracy: 0.3617\n",
      "Epoch 124/200\n",
      "7/7 [==============================] - 0s 12ms/step - loss: 1.1379 - accuracy: 0.6473 - val_loss: 1.9059 - val_accuracy: 0.3617\n",
      "Epoch 125/200\n",
      "7/7 [==============================] - 0s 13ms/step - loss: 1.1162 - accuracy: 0.6521 - val_loss: 1.9058 - val_accuracy: 0.3723\n",
      "Epoch 126/200\n",
      "7/7 [==============================] - 0s 16ms/step - loss: 1.1154 - accuracy: 0.6438 - val_loss: 1.9037 - val_accuracy: 0.3830\n",
      "Epoch 127/200\n",
      "7/7 [==============================] - 0s 14ms/step - loss: 1.1049 - accuracy: 0.6615 - val_loss: 1.8970 - val_accuracy: 0.3936\n",
      "Epoch 128/200\n",
      "7/7 [==============================] - 0s 12ms/step - loss: 1.1121 - accuracy: 0.6485 - val_loss: 1.8728 - val_accuracy: 0.4149\n",
      "Epoch 129/200\n",
      "7/7 [==============================] - 0s 8ms/step - loss: 1.0859 - accuracy: 0.6615 - val_loss: 1.8823 - val_accuracy: 0.4043\n",
      "Epoch 130/200\n",
      "7/7 [==============================] - 0s 9ms/step - loss: 1.0890 - accuracy: 0.6769 - val_loss: 1.8974 - val_accuracy: 0.3936\n",
      "Epoch 131/200\n",
      "7/7 [==============================] - 0s 9ms/step - loss: 1.0838 - accuracy: 0.6710 - val_loss: 1.8776 - val_accuracy: 0.4043\n",
      "Epoch 132/200\n",
      "7/7 [==============================] - 0s 9ms/step - loss: 1.0836 - accuracy: 0.6639 - val_loss: 1.8998 - val_accuracy: 0.3936\n",
      "Epoch 133/200\n",
      "7/7 [==============================] - 0s 7ms/step - loss: 1.0712 - accuracy: 0.6828 - val_loss: 1.9215 - val_accuracy: 0.3830\n",
      "Epoch 134/200\n",
      "7/7 [==============================] - 0s 7ms/step - loss: 1.0893 - accuracy: 0.6556 - val_loss: 1.9186 - val_accuracy: 0.4043\n",
      "Epoch 135/200\n",
      "7/7 [==============================] - 0s 7ms/step - loss: 1.0679 - accuracy: 0.6509 - val_loss: 1.9174 - val_accuracy: 0.4043\n",
      "Epoch 136/200\n",
      "7/7 [==============================] - 0s 6ms/step - loss: 1.0646 - accuracy: 0.6734 - val_loss: 1.9055 - val_accuracy: 0.4043\n",
      "Epoch 137/200\n",
      "7/7 [==============================] - 0s 12ms/step - loss: 1.0496 - accuracy: 0.6686 - val_loss: 1.9102 - val_accuracy: 0.3723\n",
      "Epoch 138/200\n",
      "7/7 [==============================] - 0s 9ms/step - loss: 1.0503 - accuracy: 0.6828 - val_loss: 1.9253 - val_accuracy: 0.3936\n",
      "Epoch 139/200\n",
      "7/7 [==============================] - 0s 22ms/step - loss: 1.0664 - accuracy: 0.6793 - val_loss: 1.9100 - val_accuracy: 0.3936\n",
      "Epoch 140/200\n",
      "7/7 [==============================] - 0s 9ms/step - loss: 1.0357 - accuracy: 0.6888 - val_loss: 1.9031 - val_accuracy: 0.3830\n",
      "Epoch 141/200\n",
      "7/7 [==============================] - 0s 8ms/step - loss: 1.0613 - accuracy: 0.6580 - val_loss: 1.9133 - val_accuracy: 0.3723\n",
      "Epoch 142/200\n",
      "7/7 [==============================] - 0s 7ms/step - loss: 1.0389 - accuracy: 0.6698 - val_loss: 1.9119 - val_accuracy: 0.4043\n",
      "Epoch 143/200\n",
      "7/7 [==============================] - 0s 8ms/step - loss: 1.0428 - accuracy: 0.6556 - val_loss: 1.8740 - val_accuracy: 0.4149\n",
      "Epoch 144/200\n",
      "7/7 [==============================] - 0s 7ms/step - loss: 1.0631 - accuracy: 0.6757 - val_loss: 1.9023 - val_accuracy: 0.3936\n",
      "Epoch 145/200\n",
      "7/7 [==============================] - 0s 6ms/step - loss: 1.0266 - accuracy: 0.6828 - val_loss: 1.9497 - val_accuracy: 0.3723\n",
      "Epoch 146/200\n",
      "7/7 [==============================] - 0s 6ms/step - loss: 1.0337 - accuracy: 0.6828 - val_loss: 1.9481 - val_accuracy: 0.3830\n",
      "Epoch 147/200\n",
      "7/7 [==============================] - 0s 6ms/step - loss: 1.0327 - accuracy: 0.6722 - val_loss: 1.9548 - val_accuracy: 0.3830\n",
      "Epoch 148/200\n",
      "7/7 [==============================] - 0s 6ms/step - loss: 1.0258 - accuracy: 0.6698 - val_loss: 1.9374 - val_accuracy: 0.3617\n",
      "Epoch 149/200\n",
      "7/7 [==============================] - 0s 6ms/step - loss: 1.0065 - accuracy: 0.6899 - val_loss: 1.9478 - val_accuracy: 0.3723\n",
      "Epoch 150/200\n",
      "7/7 [==============================] - 0s 6ms/step - loss: 1.0145 - accuracy: 0.6828 - val_loss: 1.9308 - val_accuracy: 0.3830\n",
      "Epoch 151/200\n",
      "7/7 [==============================] - 0s 6ms/step - loss: 0.9947 - accuracy: 0.6947 - val_loss: 1.9380 - val_accuracy: 0.3723\n",
      "Epoch 152/200\n",
      "7/7 [==============================] - 0s 6ms/step - loss: 1.0349 - accuracy: 0.6757 - val_loss: 1.9279 - val_accuracy: 0.3723\n",
      "Epoch 153/200\n",
      "7/7 [==============================] - 0s 6ms/step - loss: 1.0161 - accuracy: 0.6947 - val_loss: 1.9293 - val_accuracy: 0.4043\n",
      "Epoch 154/200\n",
      "7/7 [==============================] - 0s 5ms/step - loss: 1.0031 - accuracy: 0.6840 - val_loss: 1.9423 - val_accuracy: 0.4043\n",
      "Epoch 155/200\n",
      "7/7 [==============================] - 0s 6ms/step - loss: 1.0133 - accuracy: 0.6888 - val_loss: 1.8960 - val_accuracy: 0.4149\n",
      "Epoch 156/200\n",
      "7/7 [==============================] - 0s 6ms/step - loss: 0.9984 - accuracy: 0.7006 - val_loss: 1.8976 - val_accuracy: 0.4043\n",
      "Epoch 157/200\n",
      "7/7 [==============================] - 0s 6ms/step - loss: 0.9807 - accuracy: 0.7030 - val_loss: 1.8766 - val_accuracy: 0.4255\n",
      "Epoch 158/200\n",
      "7/7 [==============================] - 0s 6ms/step - loss: 0.9782 - accuracy: 0.6959 - val_loss: 1.8750 - val_accuracy: 0.4043\n",
      "Epoch 159/200\n",
      "7/7 [==============================] - 0s 6ms/step - loss: 0.9867 - accuracy: 0.6888 - val_loss: 1.8895 - val_accuracy: 0.4043\n",
      "Epoch 160/200\n",
      "7/7 [==============================] - 0s 6ms/step - loss: 0.9938 - accuracy: 0.6769 - val_loss: 1.9116 - val_accuracy: 0.4043\n",
      "Epoch 161/200\n",
      "7/7 [==============================] - 0s 6ms/step - loss: 0.9639 - accuracy: 0.7053 - val_loss: 1.9469 - val_accuracy: 0.4149\n",
      "Epoch 162/200\n",
      "7/7 [==============================] - 0s 6ms/step - loss: 1.0000 - accuracy: 0.6899 - val_loss: 1.9190 - val_accuracy: 0.4149\n",
      "Epoch 163/200\n",
      "7/7 [==============================] - 0s 6ms/step - loss: 0.9605 - accuracy: 0.7030 - val_loss: 1.9023 - val_accuracy: 0.4362\n",
      "Epoch 164/200\n",
      "7/7 [==============================] - 0s 6ms/step - loss: 0.9863 - accuracy: 0.6805 - val_loss: 1.9055 - val_accuracy: 0.4362\n",
      "Epoch 165/200\n",
      "7/7 [==============================] - 0s 13ms/step - loss: 0.9765 - accuracy: 0.6935 - val_loss: 1.9210 - val_accuracy: 0.4255\n",
      "Epoch 166/200\n",
      "7/7 [==============================] - 0s 13ms/step - loss: 0.9602 - accuracy: 0.7018 - val_loss: 1.9389 - val_accuracy: 0.4043\n",
      "Epoch 167/200\n",
      "7/7 [==============================] - 0s 12ms/step - loss: 0.9867 - accuracy: 0.7112 - val_loss: 1.9167 - val_accuracy: 0.4149\n",
      "Epoch 168/200\n",
      "7/7 [==============================] - 0s 16ms/step - loss: 0.9583 - accuracy: 0.6923 - val_loss: 1.9134 - val_accuracy: 0.4149\n",
      "Epoch 169/200\n",
      "7/7 [==============================] - 0s 22ms/step - loss: 0.9313 - accuracy: 0.7183 - val_loss: 1.9333 - val_accuracy: 0.4468\n",
      "Epoch 170/200\n",
      "7/7 [==============================] - 0s 12ms/step - loss: 0.9573 - accuracy: 0.7065 - val_loss: 1.9589 - val_accuracy: 0.4468\n",
      "Epoch 171/200\n",
      "7/7 [==============================] - 0s 8ms/step - loss: 0.9504 - accuracy: 0.6994 - val_loss: 1.9795 - val_accuracy: 0.4362\n",
      "Epoch 172/200\n",
      "7/7 [==============================] - 0s 7ms/step - loss: 0.9234 - accuracy: 0.7101 - val_loss: 1.9709 - val_accuracy: 0.4149\n",
      "Epoch 173/200\n",
      "7/7 [==============================] - 0s 6ms/step - loss: 0.9649 - accuracy: 0.6947 - val_loss: 1.9675 - val_accuracy: 0.3936\n",
      "Epoch 174/200\n",
      "7/7 [==============================] - 0s 6ms/step - loss: 0.9381 - accuracy: 0.7148 - val_loss: 1.9560 - val_accuracy: 0.4362\n",
      "Epoch 175/200\n"
     ]
    },
    {
     "name": "stdout",
     "output_type": "stream",
     "text": [
      "7/7 [==============================] - 0s 6ms/step - loss: 0.9028 - accuracy: 0.7148 - val_loss: 1.9629 - val_accuracy: 0.4362\n",
      "Epoch 176/200\n",
      "7/7 [==============================] - 0s 6ms/step - loss: 0.9202 - accuracy: 0.7089 - val_loss: 1.9704 - val_accuracy: 0.4255\n",
      "Epoch 177/200\n",
      "7/7 [==============================] - 0s 6ms/step - loss: 0.9491 - accuracy: 0.7065 - val_loss: 1.9402 - val_accuracy: 0.4362\n",
      "Epoch 178/200\n",
      "7/7 [==============================] - 0s 6ms/step - loss: 0.9512 - accuracy: 0.7018 - val_loss: 1.9554 - val_accuracy: 0.4255\n",
      "Epoch 179/200\n",
      "7/7 [==============================] - 0s 6ms/step - loss: 0.9232 - accuracy: 0.7219 - val_loss: 1.9947 - val_accuracy: 0.4255\n",
      "Epoch 180/200\n",
      "7/7 [==============================] - 0s 6ms/step - loss: 0.9109 - accuracy: 0.7124 - val_loss: 1.9903 - val_accuracy: 0.4255\n",
      "Epoch 181/200\n",
      "7/7 [==============================] - 0s 6ms/step - loss: 0.9021 - accuracy: 0.7030 - val_loss: 1.9725 - val_accuracy: 0.4149\n",
      "Epoch 182/200\n",
      "7/7 [==============================] - 0s 6ms/step - loss: 0.9042 - accuracy: 0.7172 - val_loss: 1.9515 - val_accuracy: 0.4149\n",
      "Epoch 183/200\n",
      "7/7 [==============================] - 0s 6ms/step - loss: 0.9182 - accuracy: 0.7195 - val_loss: 1.9738 - val_accuracy: 0.4362\n",
      "Epoch 184/200\n",
      "7/7 [==============================] - 0s 6ms/step - loss: 0.9043 - accuracy: 0.7207 - val_loss: 1.9778 - val_accuracy: 0.4149\n",
      "Epoch 185/200\n",
      "7/7 [==============================] - 0s 6ms/step - loss: 0.8997 - accuracy: 0.7207 - val_loss: 1.9545 - val_accuracy: 0.4255\n",
      "Epoch 186/200\n",
      "7/7 [==============================] - 0s 6ms/step - loss: 0.9081 - accuracy: 0.7077 - val_loss: 1.9720 - val_accuracy: 0.4043\n",
      "Epoch 187/200\n",
      "7/7 [==============================] - 0s 6ms/step - loss: 0.9123 - accuracy: 0.7195 - val_loss: 1.9962 - val_accuracy: 0.4149\n",
      "Epoch 188/200\n",
      "7/7 [==============================] - 0s 6ms/step - loss: 0.9077 - accuracy: 0.6947 - val_loss: 2.0003 - val_accuracy: 0.4149\n",
      "Epoch 189/200\n",
      "7/7 [==============================] - 0s 6ms/step - loss: 0.8760 - accuracy: 0.7325 - val_loss: 2.0152 - val_accuracy: 0.4255\n",
      "Epoch 190/200\n",
      "7/7 [==============================] - 0s 6ms/step - loss: 0.9108 - accuracy: 0.6959 - val_loss: 2.0216 - val_accuracy: 0.4255\n",
      "Epoch 191/200\n",
      "7/7 [==============================] - 0s 6ms/step - loss: 0.8824 - accuracy: 0.7314 - val_loss: 2.0245 - val_accuracy: 0.4255\n",
      "Epoch 192/200\n",
      "7/7 [==============================] - 0s 6ms/step - loss: 0.8813 - accuracy: 0.7195 - val_loss: 2.0004 - val_accuracy: 0.4362\n",
      "Epoch 193/200\n",
      "7/7 [==============================] - 0s 6ms/step - loss: 0.8493 - accuracy: 0.7361 - val_loss: 1.9929 - val_accuracy: 0.4255\n",
      "Epoch 194/200\n",
      "7/7 [==============================] - 0s 5ms/step - loss: 0.8769 - accuracy: 0.7349 - val_loss: 1.9954 - val_accuracy: 0.4043\n",
      "Epoch 195/200\n",
      "7/7 [==============================] - 0s 6ms/step - loss: 0.9055 - accuracy: 0.7053 - val_loss: 2.0085 - val_accuracy: 0.4043\n",
      "Epoch 196/200\n",
      "7/7 [==============================] - 0s 6ms/step - loss: 0.8835 - accuracy: 0.7243 - val_loss: 2.0094 - val_accuracy: 0.4362\n",
      "Epoch 197/200\n",
      "7/7 [==============================] - 0s 6ms/step - loss: 0.8857 - accuracy: 0.7160 - val_loss: 2.0041 - val_accuracy: 0.4468\n",
      "Epoch 198/200\n",
      "7/7 [==============================] - 0s 6ms/step - loss: 0.8632 - accuracy: 0.7278 - val_loss: 2.0125 - val_accuracy: 0.3936\n",
      "Epoch 199/200\n",
      "7/7 [==============================] - 0s 6ms/step - loss: 0.8904 - accuracy: 0.7183 - val_loss: 2.0210 - val_accuracy: 0.4043\n",
      "Epoch 200/200\n",
      "7/7 [==============================] - 0s 6ms/step - loss: 0.8773 - accuracy: 0.7160 - val_loss: 2.0405 - val_accuracy: 0.4149\n"
     ]
    },
    {
     "data": {
      "text/plain": [
       "<keras.callbacks.History at 0x2b37c8ffd60>"
      ]
     },
     "execution_count": 13,
     "metadata": {},
     "output_type": "execute_result"
    }
   ],
   "source": [
    "model.fit(moves,pred, batch_size=128,\n",
    "          epochs=200,  callbacks=[callback], validation_split=0.1)"
   ]
  },
  {
   "cell_type": "code",
   "execution_count": 29,
   "id": "502f9b18",
   "metadata": {},
   "outputs": [],
   "source": [
    "#Board to give model to predict next move\n",
    "new_board = [\n",
    "[0., 0., 0., 0., 0., 0., 0.],\n",
    "[0., 0., 0., 0., 0., 0., 0.],\n",
    "[0., 0., 0., 0., 0., 0., 0.],\n",
    "[0., 0., 0., 1., 0., 2., 0.],\n",
    "[0., 0., 0., 1., 0., 2., 0.],\n",
    "[0., 0., 0., 1., 0., 2., 0.]]"
   ]
  },
  {
   "cell_type": "code",
   "execution_count": 30,
   "id": "f3a3b843",
   "metadata": {},
   "outputs": [],
   "source": [
    "#Reshaped input board for model\n",
    "shaped_board = np.array(new_board).reshape(1, 42)"
   ]
  },
  {
   "cell_type": "code",
   "execution_count": 31,
   "id": "5bbff763",
   "metadata": {},
   "outputs": [
    {
     "name": "stdout",
     "output_type": "stream",
     "text": [
      "1/1 [==============================] - 0s 61ms/step\n"
     ]
    },
    {
     "data": {
      "text/plain": [
       "<matplotlib.image.AxesImage at 0x2b3001814c0>"
      ]
     },
     "execution_count": 31,
     "metadata": {},
     "output_type": "execute_result"
    },
    {
     "data": {
      "image/png": "[encoded data removed]",
      "text/plain": [
       "<Figure size 432x288 with 1 Axes>"
      ]
     },
     "metadata": {
      "needs_background": "light"
     },
     "output_type": "display_data"
    }
   ],
   "source": [
    "#Predict the next move and output heat map\n",
    "predicted = model.predict(shaped_board)\n",
    "plt.imshow(predicted.reshape(6,7))"
   ]
  },
  {
   "cell_type": "code",
   "execution_count": 32,
   "id": "68ef2368",
   "metadata": {},
   "outputs": [],
   "source": [
    "out = deepcopy(predicted)"
   ]
  },
  {
   "cell_type": "code",
   "execution_count": 33,
   "id": "8c3de6ee",
   "metadata": {},
   "outputs": [
    {
     "data": {
      "text/plain": [
       "19"
      ]
     },
     "execution_count": 33,
     "metadata": {},
     "output_type": "execute_result"
    }
   ],
   "source": [
    "#Decide on highest probability move\n",
    "value = out.argmax(axis=1)\n",
    "while shaped_board[0][value] == 1:\n",
    "    out[0][value] = 0\n",
    "    value = out.argmax(axis=1)\n",
    "value[0]"
   ]
  },
  {
   "cell_type": "code",
   "execution_count": 34,
   "id": "0b33c0cc",
   "metadata": {},
   "outputs": [
    {
     "data": {
      "text/plain": [
       "array([[0., 0., 0., 0., 0., 0., 0.],\n",
       "       [0., 0., 0., 0., 0., 0., 0.],\n",
       "       [0., 0., 0., 0., 0., 1., 0.],\n",
       "       [0., 0., 0., 0., 0., 0., 0.],\n",
       "       [0., 0., 0., 0., 0., 0., 0.],\n",
       "       [0., 0., 0., 0., 0., 0., 0.]], dtype=float32)"
      ]
     },
     "execution_count": 34,
     "metadata": {},
     "output_type": "execute_result"
    }
   ],
   "source": [
    "#Output next move \n",
    "space = 0\n",
    "while space < 42:\n",
    "    if space == value:\n",
    "        out[0][space] = 1\n",
    "    else:\n",
    "        out[0][space] = 0\n",
    "    space = space + 1\n",
    "out.reshape(6,7)"
   ]
  },
  {
   "cell_type": "code",
   "execution_count": null,
   "id": "f7db3e2c",
   "metadata": {},
   "outputs": [],
   "source": []
  },
  {
   "cell_type": "code",
   "execution_count": null,
   "id": "a8831dad",
   "metadata": {},
   "outputs": [],
   "source": []
  }
 ],
 "metadata": {
  "kernelspec": {
   "display_name": "Python 3 (ipykernel)",
   "language": "python",
   "name": "python3"
  },
  "language_info": {
   "codemirror_mode": {
    "name": "ipython",
    "version": 3
   },
   "file_extension": ".py",
   "mimetype": "text/x-python",
   "name": "python",
   "nbconvert_exporter": "python",
   "pygments_lexer": "ipython3",
   "version": "3.9.12"
  }
 },
 "nbformat": 4,
 "nbformat_minor": 5
}
