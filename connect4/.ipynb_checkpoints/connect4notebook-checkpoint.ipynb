{
 "cells": [
  {
   "cell_type": "code",
   "execution_count": 1,
   "id": "489f324a",
   "metadata": {},
   "outputs": [],
   "source": [
    "import numpy as np\n",
    "import tensorflow as tf\n",
    "from tensorflow import keras\n",
    "from keras.models import Sequential\n",
    "from keras.layers import Dense, Dropout\n",
    "from keras.callbacks import EarlyStopping"
   ]
  },
  {
   "cell_type": "code",
   "execution_count": 2,
   "id": "42e003ad",
   "metadata": {},
   "outputs": [],
   "source": [
    "import pickle"
   ]
  },
  {
   "cell_type": "code",
   "execution_count": 3,
   "id": "d8604e14",
   "metadata": {},
   "outputs": [],
   "source": [
    "with open('boards.pkl','rb') as f: boards = pickle.load(f)"
   ]
  },
  {
   "cell_type": "code",
   "execution_count": 4,
   "id": "20cee9a6",
   "metadata": {},
   "outputs": [],
   "source": [
    "import matplotlib.pyplot as plt"
   ]
  },
  {
   "cell_type": "code",
   "execution_count": 5,
   "id": "f81cd327",
   "metadata": {
    "scrolled": false
   },
   "outputs": [],
   "source": [
    "#for MOVE in range(boards.shape[0]):\n",
    "    #plt.figure()\n",
    "    #plt.imshow(boards[MOVE])"
   ]
  },
  {
   "cell_type": "code",
   "execution_count": 6,
   "id": "0a255e0a",
   "metadata": {},
   "outputs": [],
   "source": [
    "from copy import deepcopy"
   ]
  },
  {
   "cell_type": "code",
   "execution_count": 7,
   "id": "f9b1398a",
   "metadata": {},
   "outputs": [],
   "source": [
    "moves = []\n",
    "pred = []\n",
    "for MOVE in range(boards.shape[0] - 1):\n",
    "    moves.append(boards[MOVE].reshape(6*7))\n",
    "    pred.append(deepcopy(boards[MOVE+1].reshape(6*7)))"
   ]
  },
  {
   "cell_type": "code",
   "execution_count": 8,
   "id": "f9b09258",
   "metadata": {},
   "outputs": [],
   "source": [
    "#Normalize pred\n",
    "for MOVE in range(boards.shape[0] - 1):\n",
    "    pred[MOVE] -= deepcopy(moves[MOVE])\n",
    "    if pred[MOVE].sum() > 1:\n",
    "        pred[MOVE] /= 2"
   ]
  },
  {
   "cell_type": "code",
   "execution_count": 9,
   "id": "2fe4eade",
   "metadata": {},
   "outputs": [],
   "source": [
    "moves = np.array(moves)\n",
    "pred = np.array(pred)"
   ]
  },
  {
   "cell_type": "code",
   "execution_count": 10,
   "id": "f9392769",
   "metadata": {},
   "outputs": [],
   "source": [
    "#Remove transitions between games\n",
    "index = np.abs(pred.sum(1)) == 1\n",
    "moves = moves[index]\n",
    "pred = pred[index]"
   ]
  },
  {
   "cell_type": "code",
   "execution_count": 28,
   "id": "3f9de622",
   "metadata": {},
   "outputs": [],
   "source": [
    "model = Sequential()\n",
    "callback = tf.keras.callbacks.EarlyStopping(monitor='loss', patience=8)\n",
    "model.add(keras.Input(shape=(42)))\n",
    "model.add(Dense(200, activation='relu'))\n",
    "model.add(Dropout(0.3))\n",
    "\n",
    "model.add(Dense(42, activation='softmax'))\n",
    "\n",
    "model.compile(optimizer='adam',\n",
    "              loss='categorical_crossentropy',\n",
    "              metrics=['accuracy'])\n"
   ]
  },
  {
   "cell_type": "code",
   "execution_count": 29,
   "id": "74170619",
   "metadata": {},
   "outputs": [
    {
     "name": "stdout",
     "output_type": "stream",
     "text": [
      "Model: \"sequential_2\"\n",
      "_________________________________________________________________\n",
      " Layer (type)                Output Shape              Param #   \n",
      "=================================================================\n",
      " dense_4 (Dense)             (None, 200)               8600      \n",
      "                                                                 \n",
      " dropout_2 (Dropout)         (None, 200)               0         \n",
      "                                                                 \n",
      " dense_5 (Dense)             (None, 42)                8442      \n",
      "                                                                 \n",
      "=================================================================\n",
      "Total params: 17,042\n",
      "Trainable params: 17,042\n",
      "Non-trainable params: 0\n",
      "_________________________________________________________________\n"
     ]
    }
   ],
   "source": [
    "model.summary()"
   ]
  },
  {
   "cell_type": "code",
   "execution_count": 30,
   "id": "aeaaaecf",
   "metadata": {},
   "outputs": [
    {
     "name": "stdout",
     "output_type": "stream",
     "text": [
      "Epoch 1/200\n",
      "7/7 [==============================] - 1s 26ms/step - loss: 3.8696 - accuracy: 0.0320 - val_loss: 3.8791 - val_accuracy: 0.0638\n",
      "Epoch 2/200\n",
      "7/7 [==============================] - 0s 6ms/step - loss: 3.7250 - accuracy: 0.0556 - val_loss: 3.7549 - val_accuracy: 0.0851\n",
      "Epoch 3/200\n",
      "7/7 [==============================] - 0s 5ms/step - loss: 3.6214 - accuracy: 0.0793 - val_loss: 3.6820 - val_accuracy: 0.1170\n",
      "Epoch 4/200\n",
      "7/7 [==============================] - 0s 5ms/step - loss: 3.5497 - accuracy: 0.0899 - val_loss: 3.6276 - val_accuracy: 0.0851\n",
      "Epoch 5/200\n",
      "7/7 [==============================] - 0s 6ms/step - loss: 3.4721 - accuracy: 0.1207 - val_loss: 3.5773 - val_accuracy: 0.1170\n",
      "Epoch 6/200\n",
      "7/7 [==============================] - 0s 5ms/step - loss: 3.4126 - accuracy: 0.1408 - val_loss: 3.5194 - val_accuracy: 0.1277\n",
      "Epoch 7/200\n",
      "7/7 [==============================] - 0s 5ms/step - loss: 3.3404 - accuracy: 0.1633 - val_loss: 3.4630 - val_accuracy: 0.1489\n",
      "Epoch 8/200\n",
      "7/7 [==============================] - 0s 5ms/step - loss: 3.2753 - accuracy: 0.1621 - val_loss: 3.4040 - val_accuracy: 0.1702\n",
      "Epoch 9/200\n",
      "7/7 [==============================] - 0s 5ms/step - loss: 3.1959 - accuracy: 0.2260 - val_loss: 3.3364 - val_accuracy: 0.1702\n",
      "Epoch 10/200\n",
      "7/7 [==============================] - 0s 12ms/step - loss: 3.1298 - accuracy: 0.2237 - val_loss: 3.2643 - val_accuracy: 0.1809\n",
      "Epoch 11/200\n",
      "7/7 [==============================] - 0s 12ms/step - loss: 3.0507 - accuracy: 0.2450 - val_loss: 3.1984 - val_accuracy: 0.1915\n",
      "Epoch 12/200\n",
      "7/7 [==============================] - 0s 10ms/step - loss: 2.9808 - accuracy: 0.2722 - val_loss: 3.1493 - val_accuracy: 0.2128\n",
      "Epoch 13/200\n",
      "7/7 [==============================] - 0s 5ms/step - loss: 2.9369 - accuracy: 0.2698 - val_loss: 3.0927 - val_accuracy: 0.2234\n",
      "Epoch 14/200\n",
      "7/7 [==============================] - 0s 8ms/step - loss: 2.8733 - accuracy: 0.2840 - val_loss: 3.0363 - val_accuracy: 0.2234\n",
      "Epoch 15/200\n",
      "7/7 [==============================] - 0s 12ms/step - loss: 2.8043 - accuracy: 0.2994 - val_loss: 2.9785 - val_accuracy: 0.2340\n",
      "Epoch 16/200\n",
      "7/7 [==============================] - 0s 5ms/step - loss: 2.7272 - accuracy: 0.3053 - val_loss: 2.9181 - val_accuracy: 0.2447\n",
      "Epoch 17/200\n",
      "7/7 [==============================] - 0s 6ms/step - loss: 2.6843 - accuracy: 0.2994 - val_loss: 2.8694 - val_accuracy: 0.2553\n",
      "Epoch 18/200\n",
      "7/7 [==============================] - 0s 5ms/step - loss: 2.6334 - accuracy: 0.3183 - val_loss: 2.8306 - val_accuracy: 0.2553\n",
      "Epoch 19/200\n",
      "7/7 [==============================] - 0s 6ms/step - loss: 2.5606 - accuracy: 0.3456 - val_loss: 2.7796 - val_accuracy: 0.2766\n",
      "Epoch 20/200\n",
      "7/7 [==============================] - 0s 13ms/step - loss: 2.5183 - accuracy: 0.3396 - val_loss: 2.7271 - val_accuracy: 0.2553\n",
      "Epoch 21/200\n",
      "7/7 [==============================] - 0s 10ms/step - loss: 2.4890 - accuracy: 0.3349 - val_loss: 2.6887 - val_accuracy: 0.2553\n",
      "Epoch 22/200\n",
      "7/7 [==============================] - 0s 12ms/step - loss: 2.4044 - accuracy: 0.3763 - val_loss: 2.6584 - val_accuracy: 0.2872\n",
      "Epoch 23/200\n",
      "7/7 [==============================] - 0s 5ms/step - loss: 2.3844 - accuracy: 0.3527 - val_loss: 2.6177 - val_accuracy: 0.2872\n",
      "Epoch 24/200\n",
      "7/7 [==============================] - 0s 6ms/step - loss: 2.3276 - accuracy: 0.3728 - val_loss: 2.5930 - val_accuracy: 0.2766\n",
      "Epoch 25/200\n",
      "7/7 [==============================] - 0s 5ms/step - loss: 2.2994 - accuracy: 0.3740 - val_loss: 2.5590 - val_accuracy: 0.3298\n",
      "Epoch 26/200\n",
      "7/7 [==============================] - 0s 6ms/step - loss: 2.2355 - accuracy: 0.3834 - val_loss: 2.5250 - val_accuracy: 0.3191\n",
      "Epoch 27/200\n",
      "7/7 [==============================] - 0s 8ms/step - loss: 2.2216 - accuracy: 0.3953 - val_loss: 2.4876 - val_accuracy: 0.3404\n",
      "Epoch 28/200\n",
      "7/7 [==============================] - 0s 5ms/step - loss: 2.1939 - accuracy: 0.3893 - val_loss: 2.4678 - val_accuracy: 0.2979\n",
      "Epoch 29/200\n",
      "7/7 [==============================] - 0s 6ms/step - loss: 2.1613 - accuracy: 0.4024 - val_loss: 2.4521 - val_accuracy: 0.2979\n",
      "Epoch 30/200\n",
      "7/7 [==============================] - 0s 8ms/step - loss: 2.1312 - accuracy: 0.3870 - val_loss: 2.4217 - val_accuracy: 0.2979\n",
      "Epoch 31/200\n",
      "7/7 [==============================] - 0s 6ms/step - loss: 2.1061 - accuracy: 0.4130 - val_loss: 2.3857 - val_accuracy: 0.3191\n",
      "Epoch 32/200\n",
      "7/7 [==============================] - 0s 5ms/step - loss: 2.0584 - accuracy: 0.4130 - val_loss: 2.3689 - val_accuracy: 0.3404\n",
      "Epoch 33/200\n",
      "7/7 [==============================] - 0s 5ms/step - loss: 2.0484 - accuracy: 0.4249 - val_loss: 2.3529 - val_accuracy: 0.3298\n",
      "Epoch 34/200\n",
      "7/7 [==============================] - 0s 6ms/step - loss: 2.0013 - accuracy: 0.4083 - val_loss: 2.3323 - val_accuracy: 0.3404\n",
      "Epoch 35/200\n",
      "7/7 [==============================] - 0s 8ms/step - loss: 2.0030 - accuracy: 0.4225 - val_loss: 2.3184 - val_accuracy: 0.3191\n",
      "Epoch 36/200\n",
      "7/7 [==============================] - 0s 6ms/step - loss: 1.9268 - accuracy: 0.4639 - val_loss: 2.3031 - val_accuracy: 0.3404\n",
      "Epoch 37/200\n",
      "7/7 [==============================] - 0s 8ms/step - loss: 1.9102 - accuracy: 0.4544 - val_loss: 2.2673 - val_accuracy: 0.3511\n",
      "Epoch 38/200\n",
      "7/7 [==============================] - 0s 9ms/step - loss: 1.9172 - accuracy: 0.4426 - val_loss: 2.2460 - val_accuracy: 0.3617\n",
      "Epoch 39/200\n",
      "7/7 [==============================] - 0s 12ms/step - loss: 1.9125 - accuracy: 0.4367 - val_loss: 2.2316 - val_accuracy: 0.3191\n",
      "Epoch 40/200\n",
      "7/7 [==============================] - 0s 17ms/step - loss: 1.8852 - accuracy: 0.4426 - val_loss: 2.2216 - val_accuracy: 0.3511\n",
      "Epoch 41/200\n",
      "7/7 [==============================] - 0s 12ms/step - loss: 1.8654 - accuracy: 0.4473 - val_loss: 2.2069 - val_accuracy: 0.3723\n",
      "Epoch 42/200\n",
      "7/7 [==============================] - 0s 10ms/step - loss: 1.8514 - accuracy: 0.4580 - val_loss: 2.2000 - val_accuracy: 0.3511\n",
      "Epoch 43/200\n",
      "7/7 [==============================] - 0s 17ms/step - loss: 1.8286 - accuracy: 0.4592 - val_loss: 2.1993 - val_accuracy: 0.3404\n",
      "Epoch 44/200\n",
      "7/7 [==============================] - 0s 17ms/step - loss: 1.7989 - accuracy: 0.4828 - val_loss: 2.1776 - val_accuracy: 0.3617\n",
      "Epoch 45/200\n",
      "7/7 [==============================] - 0s 13ms/step - loss: 1.7577 - accuracy: 0.4781 - val_loss: 2.1620 - val_accuracy: 0.3723\n",
      "Epoch 46/200\n",
      "7/7 [==============================] - 0s 10ms/step - loss: 1.7688 - accuracy: 0.4935 - val_loss: 2.1461 - val_accuracy: 0.3723\n",
      "Epoch 47/200\n",
      "7/7 [==============================] - 0s 9ms/step - loss: 1.7217 - accuracy: 0.4923 - val_loss: 2.1469 - val_accuracy: 0.3723\n",
      "Epoch 48/200\n",
      "7/7 [==============================] - 0s 8ms/step - loss: 1.7363 - accuracy: 0.4911 - val_loss: 2.1471 - val_accuracy: 0.3617\n",
      "Epoch 49/200\n",
      "7/7 [==============================] - 0s 9ms/step - loss: 1.7109 - accuracy: 0.4840 - val_loss: 2.1202 - val_accuracy: 0.3511\n",
      "Epoch 50/200\n",
      "7/7 [==============================] - 0s 26ms/step - loss: 1.6923 - accuracy: 0.4970 - val_loss: 2.0947 - val_accuracy: 0.3723\n",
      "Epoch 51/200\n",
      "7/7 [==============================] - 0s 22ms/step - loss: 1.6781 - accuracy: 0.4746 - val_loss: 2.1029 - val_accuracy: 0.3830\n",
      "Epoch 52/200\n",
      "7/7 [==============================] - 0s 14ms/step - loss: 1.6849 - accuracy: 0.4769 - val_loss: 2.0768 - val_accuracy: 0.4255\n",
      "Epoch 53/200\n",
      "7/7 [==============================] - 0s 9ms/step - loss: 1.6464 - accuracy: 0.5124 - val_loss: 2.0698 - val_accuracy: 0.3830\n",
      "Epoch 54/200\n",
      "7/7 [==============================] - 0s 8ms/step - loss: 1.6785 - accuracy: 0.4864 - val_loss: 2.0774 - val_accuracy: 0.3617\n",
      "Epoch 55/200\n",
      "7/7 [==============================] - 0s 9ms/step - loss: 1.6339 - accuracy: 0.5183 - val_loss: 2.0692 - val_accuracy: 0.3404\n",
      "Epoch 56/200\n",
      "7/7 [==============================] - 0s 10ms/step - loss: 1.5951 - accuracy: 0.5266 - val_loss: 2.0533 - val_accuracy: 0.3617\n",
      "Epoch 57/200\n",
      "7/7 [==============================] - 0s 17ms/step - loss: 1.6096 - accuracy: 0.5183 - val_loss: 2.0388 - val_accuracy: 0.3936\n",
      "Epoch 58/200\n",
      "7/7 [==============================] - 0s 10ms/step - loss: 1.5925 - accuracy: 0.5408 - val_loss: 2.0382 - val_accuracy: 0.4043\n",
      "Epoch 59/200\n"
     ]
    },
    {
     "name": "stdout",
     "output_type": "stream",
     "text": [
      "7/7 [==============================] - 0s 12ms/step - loss: 1.5671 - accuracy: 0.5112 - val_loss: 2.0429 - val_accuracy: 0.3830\n",
      "Epoch 60/200\n",
      "7/7 [==============================] - 0s 12ms/step - loss: 1.5420 - accuracy: 0.5408 - val_loss: 2.0441 - val_accuracy: 0.3936\n",
      "Epoch 61/200\n",
      "7/7 [==============================] - 0s 19ms/step - loss: 1.5479 - accuracy: 0.5349 - val_loss: 2.0444 - val_accuracy: 0.4043\n",
      "Epoch 62/200\n",
      "7/7 [==============================] - 0s 12ms/step - loss: 1.5406 - accuracy: 0.5325 - val_loss: 2.0460 - val_accuracy: 0.3830\n",
      "Epoch 63/200\n",
      "7/7 [==============================] - 0s 12ms/step - loss: 1.5390 - accuracy: 0.5408 - val_loss: 2.0359 - val_accuracy: 0.3936\n",
      "Epoch 64/200\n",
      "7/7 [==============================] - 0s 27ms/step - loss: 1.5098 - accuracy: 0.5503 - val_loss: 2.0156 - val_accuracy: 0.3936\n",
      "Epoch 65/200\n",
      "7/7 [==============================] - 0s 10ms/step - loss: 1.4987 - accuracy: 0.5479 - val_loss: 2.0078 - val_accuracy: 0.3936\n",
      "Epoch 66/200\n",
      "7/7 [==============================] - 0s 18ms/step - loss: 1.4782 - accuracy: 0.5633 - val_loss: 2.0050 - val_accuracy: 0.4043\n",
      "Epoch 67/200\n",
      "7/7 [==============================] - 0s 10ms/step - loss: 1.4952 - accuracy: 0.5207 - val_loss: 2.0190 - val_accuracy: 0.3511\n",
      "Epoch 68/200\n",
      "7/7 [==============================] - 0s 23ms/step - loss: 1.4881 - accuracy: 0.5562 - val_loss: 2.0147 - val_accuracy: 0.3404\n",
      "Epoch 69/200\n",
      "7/7 [==============================] - 0s 8ms/step - loss: 1.4218 - accuracy: 0.5763 - val_loss: 2.0100 - val_accuracy: 0.4149\n",
      "Epoch 70/200\n",
      "7/7 [==============================] - 0s 6ms/step - loss: 1.4918 - accuracy: 0.5527 - val_loss: 2.0005 - val_accuracy: 0.4149\n",
      "Epoch 71/200\n",
      "7/7 [==============================] - 0s 8ms/step - loss: 1.4482 - accuracy: 0.5621 - val_loss: 2.0073 - val_accuracy: 0.4149\n",
      "Epoch 72/200\n",
      "7/7 [==============================] - 0s 17ms/step - loss: 1.4284 - accuracy: 0.5704 - val_loss: 2.0128 - val_accuracy: 0.4043\n",
      "Epoch 73/200\n",
      "7/7 [==============================] - 0s 9ms/step - loss: 1.4427 - accuracy: 0.5408 - val_loss: 1.9994 - val_accuracy: 0.4149\n",
      "Epoch 74/200\n",
      "7/7 [==============================] - 0s 9ms/step - loss: 1.4314 - accuracy: 0.5669 - val_loss: 1.9823 - val_accuracy: 0.4043\n",
      "Epoch 75/200\n",
      "7/7 [==============================] - 0s 8ms/step - loss: 1.3958 - accuracy: 0.5822 - val_loss: 1.9832 - val_accuracy: 0.4043\n",
      "Epoch 76/200\n",
      "7/7 [==============================] - 0s 9ms/step - loss: 1.3882 - accuracy: 0.5740 - val_loss: 1.9910 - val_accuracy: 0.3936\n",
      "Epoch 77/200\n",
      "7/7 [==============================] - 0s 14ms/step - loss: 1.4019 - accuracy: 0.5751 - val_loss: 1.9869 - val_accuracy: 0.3936\n",
      "Epoch 78/200\n",
      "7/7 [==============================] - 0s 17ms/step - loss: 1.3693 - accuracy: 0.5893 - val_loss: 1.9787 - val_accuracy: 0.4043\n",
      "Epoch 79/200\n",
      "7/7 [==============================] - 0s 12ms/step - loss: 1.4075 - accuracy: 0.5775 - val_loss: 1.9803 - val_accuracy: 0.4255\n",
      "Epoch 80/200\n",
      "7/7 [==============================] - 0s 10ms/step - loss: 1.3593 - accuracy: 0.5976 - val_loss: 1.9956 - val_accuracy: 0.3936\n",
      "Epoch 81/200\n",
      "7/7 [==============================] - 0s 12ms/step - loss: 1.3636 - accuracy: 0.5775 - val_loss: 1.9823 - val_accuracy: 0.3936\n",
      "Epoch 82/200\n",
      "7/7 [==============================] - 0s 12ms/step - loss: 1.3569 - accuracy: 0.5893 - val_loss: 1.9784 - val_accuracy: 0.3936\n",
      "Epoch 83/200\n",
      "7/7 [==============================] - 0s 10ms/step - loss: 1.3511 - accuracy: 0.5976 - val_loss: 1.9771 - val_accuracy: 0.4149\n",
      "Epoch 84/200\n",
      "7/7 [==============================] - 0s 6ms/step - loss: 1.3309 - accuracy: 0.5858 - val_loss: 1.9846 - val_accuracy: 0.4149\n",
      "Epoch 85/200\n",
      "7/7 [==============================] - 0s 5ms/step - loss: 1.3346 - accuracy: 0.6036 - val_loss: 1.9689 - val_accuracy: 0.4255\n",
      "Epoch 86/200\n",
      "7/7 [==============================] - 0s 6ms/step - loss: 1.3259 - accuracy: 0.6000 - val_loss: 1.9751 - val_accuracy: 0.4149\n",
      "Epoch 87/200\n",
      "7/7 [==============================] - 0s 8ms/step - loss: 1.3148 - accuracy: 0.6036 - val_loss: 1.9944 - val_accuracy: 0.4043\n",
      "Epoch 88/200\n",
      "7/7 [==============================] - 0s 9ms/step - loss: 1.2876 - accuracy: 0.6130 - val_loss: 1.9758 - val_accuracy: 0.3830\n",
      "Epoch 89/200\n",
      "7/7 [==============================] - 0s 8ms/step - loss: 1.3227 - accuracy: 0.5929 - val_loss: 1.9731 - val_accuracy: 0.3830\n",
      "Epoch 90/200\n",
      "7/7 [==============================] - 0s 23ms/step - loss: 1.2688 - accuracy: 0.6178 - val_loss: 1.9758 - val_accuracy: 0.3830\n",
      "Epoch 91/200\n",
      "7/7 [==============================] - 0s 14ms/step - loss: 1.2946 - accuracy: 0.6107 - val_loss: 1.9714 - val_accuracy: 0.4255\n",
      "Epoch 92/200\n",
      "7/7 [==============================] - 0s 8ms/step - loss: 1.2722 - accuracy: 0.6047 - val_loss: 1.9699 - val_accuracy: 0.4149\n",
      "Epoch 93/200\n",
      "7/7 [==============================] - 0s 6ms/step - loss: 1.2676 - accuracy: 0.6130 - val_loss: 1.9805 - val_accuracy: 0.4043\n",
      "Epoch 94/200\n",
      "7/7 [==============================] - 0s 22ms/step - loss: 1.2619 - accuracy: 0.6071 - val_loss: 1.9696 - val_accuracy: 0.4149\n",
      "Epoch 95/200\n",
      "7/7 [==============================] - 0s 12ms/step - loss: 1.2641 - accuracy: 0.6047 - val_loss: 1.9767 - val_accuracy: 0.4149\n",
      "Epoch 96/200\n",
      "7/7 [==============================] - 0s 9ms/step - loss: 1.2611 - accuracy: 0.6107 - val_loss: 1.9854 - val_accuracy: 0.4149\n",
      "Epoch 97/200\n",
      "7/7 [==============================] - 0s 8ms/step - loss: 1.2798 - accuracy: 0.5988 - val_loss: 1.9842 - val_accuracy: 0.4149\n",
      "Epoch 98/200\n",
      "7/7 [==============================] - 0s 9ms/step - loss: 1.1989 - accuracy: 0.6379 - val_loss: 1.9851 - val_accuracy: 0.4149\n",
      "Epoch 99/200\n",
      "7/7 [==============================] - 0s 8ms/step - loss: 1.2391 - accuracy: 0.6249 - val_loss: 1.9852 - val_accuracy: 0.4149\n",
      "Epoch 100/200\n",
      "7/7 [==============================] - 0s 20ms/step - loss: 1.2116 - accuracy: 0.6272 - val_loss: 1.9770 - val_accuracy: 0.4149\n",
      "Epoch 101/200\n",
      "7/7 [==============================] - 0s 14ms/step - loss: 1.2313 - accuracy: 0.6320 - val_loss: 1.9521 - val_accuracy: 0.4149\n",
      "Epoch 102/200\n",
      "7/7 [==============================] - 0s 10ms/step - loss: 1.2114 - accuracy: 0.6213 - val_loss: 1.9607 - val_accuracy: 0.4149\n",
      "Epoch 103/200\n",
      "7/7 [==============================] - 0s 6ms/step - loss: 1.2052 - accuracy: 0.6497 - val_loss: 2.0055 - val_accuracy: 0.4149\n",
      "Epoch 104/200\n",
      "7/7 [==============================] - 0s 5ms/step - loss: 1.2223 - accuracy: 0.6284 - val_loss: 2.0055 - val_accuracy: 0.4255\n",
      "Epoch 105/200\n",
      "7/7 [==============================] - 0s 9ms/step - loss: 1.1970 - accuracy: 0.6249 - val_loss: 1.9975 - val_accuracy: 0.4149\n",
      "Epoch 106/200\n",
      "7/7 [==============================] - 0s 10ms/step - loss: 1.1888 - accuracy: 0.6367 - val_loss: 1.9953 - val_accuracy: 0.4149\n",
      "Epoch 107/200\n",
      "7/7 [==============================] - 0s 25ms/step - loss: 1.1723 - accuracy: 0.6556 - val_loss: 1.9918 - val_accuracy: 0.4043\n",
      "Epoch 108/200\n",
      "7/7 [==============================] - 0s 9ms/step - loss: 1.1796 - accuracy: 0.6462 - val_loss: 2.0011 - val_accuracy: 0.4043\n",
      "Epoch 109/200\n",
      "7/7 [==============================] - 0s 10ms/step - loss: 1.1709 - accuracy: 0.6462 - val_loss: 2.0126 - val_accuracy: 0.4149\n",
      "Epoch 110/200\n",
      "7/7 [==============================] - 0s 13ms/step - loss: 1.1729 - accuracy: 0.6426 - val_loss: 1.9982 - val_accuracy: 0.4149\n",
      "Epoch 111/200\n",
      "7/7 [==============================] - 0s 9ms/step - loss: 1.1631 - accuracy: 0.6414 - val_loss: 1.9786 - val_accuracy: 0.4043\n",
      "Epoch 112/200\n",
      "7/7 [==============================] - 0s 19ms/step - loss: 1.1680 - accuracy: 0.6533 - val_loss: 1.9849 - val_accuracy: 0.4043\n",
      "Epoch 113/200\n",
      "7/7 [==============================] - 0s 12ms/step - loss: 1.1650 - accuracy: 0.6438 - val_loss: 1.9782 - val_accuracy: 0.4043\n",
      "Epoch 114/200\n",
      "7/7 [==============================] - 0s 9ms/step - loss: 1.1466 - accuracy: 0.6355 - val_loss: 1.9959 - val_accuracy: 0.4149\n",
      "Epoch 115/200\n",
      "7/7 [==============================] - 0s 8ms/step - loss: 1.1372 - accuracy: 0.6391 - val_loss: 2.0215 - val_accuracy: 0.3936\n",
      "Epoch 116/200\n",
      "7/7 [==============================] - 0s 6ms/step - loss: 1.1325 - accuracy: 0.6544 - val_loss: 2.0565 - val_accuracy: 0.3936\n",
      "Epoch 117/200\n"
     ]
    },
    {
     "name": "stdout",
     "output_type": "stream",
     "text": [
      "7/7 [==============================] - 0s 8ms/step - loss: 1.1221 - accuracy: 0.6544 - val_loss: 2.0304 - val_accuracy: 0.3936\n",
      "Epoch 118/200\n",
      "7/7 [==============================] - 0s 17ms/step - loss: 1.1355 - accuracy: 0.6509 - val_loss: 1.9911 - val_accuracy: 0.3936\n",
      "Epoch 119/200\n",
      "7/7 [==============================] - 0s 14ms/step - loss: 1.1386 - accuracy: 0.6544 - val_loss: 1.9965 - val_accuracy: 0.3936\n",
      "Epoch 120/200\n",
      "7/7 [==============================] - 0s 12ms/step - loss: 1.0916 - accuracy: 0.6604 - val_loss: 1.9990 - val_accuracy: 0.3830\n",
      "Epoch 121/200\n",
      "7/7 [==============================] - 0s 12ms/step - loss: 1.1174 - accuracy: 0.6604 - val_loss: 2.0252 - val_accuracy: 0.4043\n",
      "Epoch 122/200\n",
      "7/7 [==============================] - 0s 10ms/step - loss: 1.1143 - accuracy: 0.6556 - val_loss: 2.0391 - val_accuracy: 0.3830\n",
      "Epoch 123/200\n",
      "7/7 [==============================] - 0s 9ms/step - loss: 1.0757 - accuracy: 0.6592 - val_loss: 2.0372 - val_accuracy: 0.3936\n",
      "Epoch 124/200\n",
      "7/7 [==============================] - 0s 8ms/step - loss: 1.0982 - accuracy: 0.6627 - val_loss: 2.0258 - val_accuracy: 0.4149\n",
      "Epoch 125/200\n",
      "7/7 [==============================] - 0s 19ms/step - loss: 1.0890 - accuracy: 0.6710 - val_loss: 2.0093 - val_accuracy: 0.4255\n",
      "Epoch 126/200\n",
      "7/7 [==============================] - 0s 10ms/step - loss: 1.0908 - accuracy: 0.6615 - val_loss: 2.0266 - val_accuracy: 0.4043\n",
      "Epoch 127/200\n",
      "7/7 [==============================] - 0s 26ms/step - loss: 1.0701 - accuracy: 0.6935 - val_loss: 2.0341 - val_accuracy: 0.4149\n",
      "Epoch 128/200\n",
      "7/7 [==============================] - 0s 19ms/step - loss: 1.0469 - accuracy: 0.6817 - val_loss: 2.0249 - val_accuracy: 0.4149\n",
      "Epoch 129/200\n",
      "7/7 [==============================] - 0s 9ms/step - loss: 1.0503 - accuracy: 0.6959 - val_loss: 2.0245 - val_accuracy: 0.4149\n",
      "Epoch 130/200\n",
      "7/7 [==============================] - 0s 8ms/step - loss: 1.0543 - accuracy: 0.6722 - val_loss: 2.0317 - val_accuracy: 0.4255\n",
      "Epoch 131/200\n",
      "7/7 [==============================] - 0s 8ms/step - loss: 1.0770 - accuracy: 0.6592 - val_loss: 2.0338 - val_accuracy: 0.4362\n",
      "Epoch 132/200\n",
      "7/7 [==============================] - 0s 6ms/step - loss: 1.0482 - accuracy: 0.6817 - val_loss: 2.0208 - val_accuracy: 0.4043\n",
      "Epoch 133/200\n",
      "7/7 [==============================] - 0s 8ms/step - loss: 1.1010 - accuracy: 0.6627 - val_loss: 2.0232 - val_accuracy: 0.3936\n",
      "Epoch 134/200\n",
      "7/7 [==============================] - 0s 9ms/step - loss: 1.0479 - accuracy: 0.6734 - val_loss: 2.0349 - val_accuracy: 0.4149\n",
      "Epoch 135/200\n",
      "7/7 [==============================] - 0s 19ms/step - loss: 1.0557 - accuracy: 0.6604 - val_loss: 2.0217 - val_accuracy: 0.4149\n",
      "Epoch 136/200\n",
      "7/7 [==============================] - 0s 19ms/step - loss: 1.0757 - accuracy: 0.6651 - val_loss: 2.0077 - val_accuracy: 0.4149\n"
     ]
    }
   ],
   "source": [
    "history = model.fit(moves,pred, batch_size=128,\n",
    "          epochs=200,  callbacks=[callback], validation_split=0.1)"
   ]
  },
  {
   "cell_type": "code",
   "execution_count": 31,
   "id": "1e03cc01",
   "metadata": {},
   "outputs": [
    {
     "data": {
      "text/plain": [
       "<matplotlib.legend.Legend at 0x2d6c6e82d60>"
      ]
     },
     "execution_count": 31,
     "metadata": {},
     "output_type": "execute_result"
    },
    {
     "data": {
      "image/png": "[encoded data removed]",
      "text/plain": [
       "<Figure size 432x288 with 1 Axes>"
      ]
     },
     "metadata": {
      "needs_background": "light"
     },
     "output_type": "display_data"
    }
   ],
   "source": [
    "plt.plot(history.history['accuracy'])\n",
    "plt.plot(history.history['val_accuracy'])\n",
    "plt.title('Model Accuracy')\n",
    "plt.ylabel('Accuracy')\n",
    "plt.xlabel('Epoch')\n",
    "plt.legend(['train', 'test'])"
   ]
  },
  {
   "cell_type": "code",
   "execution_count": 35,
   "id": "502f9b18",
   "metadata": {},
   "outputs": [],
   "source": [
    "#Board to give model to predict next move\n",
    "new_board = [\n",
    "[0., 0., 0., 0., 0., 0., 0.],\n",
    "[0., 0., 0., 0., 0., 0., 0.],\n",
    "[0., 0., 0., 0., 0., 0., 0.],\n",
    "[0., 0., 1., 0., 0., 0., 0.],\n",
    "[0., 0., 2., 2., 0., 0., 0.],\n",
    "[0., 0., 2., 1., 1., 0., 0.]]"
   ]
  },
  {
   "cell_type": "code",
   "execution_count": 36,
   "id": "f3a3b843",
   "metadata": {},
   "outputs": [],
   "source": [
    "#Reshaped input board for model\n",
    "shaped_board = np.array(new_board).reshape(1, 42)"
   ]
  },
  {
   "cell_type": "code",
   "execution_count": 37,
   "id": "5bbff763",
   "metadata": {},
   "outputs": [
    {
     "name": "stdout",
     "output_type": "stream",
     "text": [
      "1/1 [==============================] - 0s 7ms/step\n"
     ]
    },
    {
     "data": {
      "text/plain": [
       "<matplotlib.image.AxesImage at 0x2d6c8105e50>"
      ]
     },
     "execution_count": 37,
     "metadata": {},
     "output_type": "execute_result"
    },
    {
     "data": {
      "image/png": "[encoded data removed]",
      "text/plain": [
       "<Figure size 432x288 with 1 Axes>"
      ]
     },
     "metadata": {
      "needs_background": "light"
     },
     "output_type": "display_data"
    }
   ],
   "source": [
    "#Predict the next move and output heat map\n",
    "predicted = model.predict(shaped_board)\n",
    "plt.imshow(predicted.reshape(6,7))"
   ]
  },
  {
   "cell_type": "code",
   "execution_count": 18,
   "id": "68ef2368",
   "metadata": {},
   "outputs": [],
   "source": [
    "out = deepcopy(predicted)"
   ]
  },
  {
   "cell_type": "code",
   "execution_count": 19,
   "id": "8c3de6ee",
   "metadata": {},
   "outputs": [
    {
     "data": {
      "text/plain": [
       "40"
      ]
     },
     "execution_count": 19,
     "metadata": {},
     "output_type": "execute_result"
    }
   ],
   "source": [
    "#Decide on highest probability move\n",
    "value = out.argmax(axis=1)\n",
    "while shaped_board[0][value] == 1:\n",
    "    out[0][value] = 0\n",
    "    value = out.argmax(axis=1)\n",
    "value[0]"
   ]
  },
  {
   "cell_type": "code",
   "execution_count": 20,
   "id": "0b33c0cc",
   "metadata": {},
   "outputs": [
    {
     "data": {
      "text/plain": [
       "array([[0., 0., 0., 0., 0., 0., 0.],\n",
       "       [0., 0., 0., 0., 0., 0., 0.],\n",
       "       [0., 0., 0., 0., 0., 0., 0.],\n",
       "       [0., 0., 0., 0., 0., 0., 0.],\n",
       "       [0., 0., 0., 0., 0., 0., 0.],\n",
       "       [0., 0., 0., 0., 0., 1., 0.]], dtype=float32)"
      ]
     },
     "execution_count": 20,
     "metadata": {},
     "output_type": "execute_result"
    }
   ],
   "source": [
    "#Output next move \n",
    "space = 0\n",
    "while space < 42:\n",
    "    if space == value:\n",
    "        out[0][space] = 1\n",
    "    else:\n",
    "        out[0][space] = 0\n",
    "    space = space + 1\n",
    "out.reshape(6,7)"
   ]
  },
  {
   "cell_type": "code",
   "execution_count": null,
   "id": "d0187cb7",
   "metadata": {},
   "outputs": [],
   "source": []
  }
 ],
 "metadata": {
  "kernelspec": {
   "display_name": "Python 3 (ipykernel)",
   "language": "python",
   "name": "python3"
  },
  "language_info": {
   "codemirror_mode": {
    "name": "ipython",
    "version": 3
   },
   "file_extension": ".py",
   "mimetype": "text/x-python",
   "name": "python",
   "nbconvert_exporter": "python",
   "pygments_lexer": "ipython3",
   "version": "3.9.12"
  }
 },
 "nbformat": 4,
 "nbformat_minor": 5
}
