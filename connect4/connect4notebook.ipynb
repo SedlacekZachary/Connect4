{
 "cells": [
  {
   "cell_type": "code",
   "execution_count": 1,
   "id": "489f324a",
   "metadata": {},
   "outputs": [],
   "source": [
    "import numpy as np\n",
    "import tensorflow as tf\n",
    "from tensorflow import keras\n",
    "from keras.models import Sequential\n",
    "from keras.layers import Dense, Dropout\n",
    "from keras.callbacks import EarlyStopping"
   ]
  },
  {
   "cell_type": "code",
   "execution_count": 2,
   "id": "42e003ad",
   "metadata": {},
   "outputs": [],
   "source": [
    "import pickle"
   ]
  },
  {
   "cell_type": "code",
   "execution_count": 3,
   "id": "d8604e14",
   "metadata": {},
   "outputs": [],
   "source": [
    "with open('boards.pkl','rb') as f: boards = pickle.load(f)"
   ]
  },
  {
   "cell_type": "code",
   "execution_count": 4,
   "id": "20cee9a6",
   "metadata": {},
   "outputs": [],
   "source": [
    "import matplotlib.pyplot as plt"
   ]
  },
  {
   "cell_type": "code",
   "execution_count": 5,
   "id": "f81cd327",
   "metadata": {
    "scrolled": false
   },
   "outputs": [],
   "source": [
    "#for MOVE in range(boards.shape[0]):\n",
    "    #plt.figure()\n",
    "    #plt.imshow(boards[MOVE])"
   ]
  },
  {
   "cell_type": "code",
   "execution_count": 6,
   "id": "0a255e0a",
   "metadata": {},
   "outputs": [],
   "source": [
    "from copy import deepcopy"
   ]
  },
  {
   "cell_type": "code",
   "execution_count": 7,
   "id": "f9b1398a",
   "metadata": {},
   "outputs": [],
   "source": [
    "moves = []\n",
    "pred = []\n",
    "for MOVE in range(boards.shape[0] - 1):\n",
    "    moves.append(boards[MOVE].reshape(6*7))\n",
    "    pred.append(deepcopy(boards[MOVE+1].reshape(6*7)))"
   ]
  },
  {
   "cell_type": "code",
   "execution_count": 8,
   "id": "f9b09258",
   "metadata": {},
   "outputs": [],
   "source": [
    "#Normalize pred\n",
    "for MOVE in range(boards.shape[0] - 1):\n",
    "    pred[MOVE] -= deepcopy(moves[MOVE])\n",
    "    if pred[MOVE].sum() > 1:\n",
    "        pred[MOVE] /= 2"
   ]
  },
  {
   "cell_type": "code",
   "execution_count": 9,
   "id": "2fe4eade",
   "metadata": {},
   "outputs": [],
   "source": [
    "moves = np.array(moves)\n",
    "pred = np.array(pred)"
   ]
  },
  {
   "cell_type": "code",
   "execution_count": 10,
   "id": "f9392769",
   "metadata": {},
   "outputs": [],
   "source": [
    "#Remove transitions between games\n",
    "index = np.abs(pred.sum(1)) == 1\n",
    "moves = moves[index]\n",
    "pred = pred[index]"
   ]
  },
  {
   "cell_type": "code",
   "execution_count": 13,
   "id": "3f9de622",
   "metadata": {},
   "outputs": [],
   "source": [
    "model = Sequential()\n",
    "callback = tf.keras.callbacks.EarlyStopping(monitor='loss', patience=8)\n",
    "model.add(keras.Input(shape=(42)))\n",
    "model.add(Dense(200, activation='relu'))\n",
    "model.add(Dropout(0.3))\n",
    "\n",
    "model.add(Dense(42, activation='softmax'))\n",
    "\n",
    "model.compile(optimizer='adam',\n",
    "              loss='categorical_crossentropy',\n",
    "              metrics=['accuracy'])\n"
   ]
  },
  {
   "cell_type": "code",
   "execution_count": 14,
   "id": "74170619",
   "metadata": {},
   "outputs": [
    {
     "name": "stdout",
     "output_type": "stream",
     "text": [
      "Model: \"sequential\"\n",
      "_________________________________________________________________\n",
      " Layer (type)                Output Shape              Param #   \n",
      "=================================================================\n",
      " dense (Dense)               (None, 200)               8600      \n",
      "                                                                 \n",
      " dropout (Dropout)           (None, 200)               0         \n",
      "                                                                 \n",
      " dense_1 (Dense)             (None, 42)                8442      \n",
      "                                                                 \n",
      "=================================================================\n",
      "Total params: 17,042\n",
      "Trainable params: 17,042\n",
      "Non-trainable params: 0\n",
      "_________________________________________________________________\n"
     ]
    }
   ],
   "source": [
    "model.summary()"
   ]
  },
  {
   "cell_type": "code",
   "execution_count": 15,
   "id": "aeaaaecf",
   "metadata": {},
   "outputs": [
    {
     "name": "stdout",
     "output_type": "stream",
     "text": [
      "Epoch 1/200\n",
      "7/7 [==============================] - 1s 39ms/step - loss: 3.8614 - accuracy: 0.0201 - val_loss: 3.8181 - val_accuracy: 0.0000e+00\n",
      "Epoch 2/200\n",
      "7/7 [==============================] - 0s 9ms/step - loss: 3.7178 - accuracy: 0.0485 - val_loss: 3.7266 - val_accuracy: 0.0319\n",
      "Epoch 3/200\n",
      "7/7 [==============================] - 0s 8ms/step - loss: 3.6347 - accuracy: 0.0615 - val_loss: 3.6613 - val_accuracy: 0.0745\n",
      "Epoch 4/200\n",
      "7/7 [==============================] - 0s 12ms/step - loss: 3.5367 - accuracy: 0.0994 - val_loss: 3.5955 - val_accuracy: 0.0638\n",
      "Epoch 5/200\n",
      "7/7 [==============================] - 0s 14ms/step - loss: 3.4699 - accuracy: 0.1041 - val_loss: 3.5239 - val_accuracy: 0.1170\n",
      "Epoch 6/200\n",
      "7/7 [==============================] - 0s 6ms/step - loss: 3.3992 - accuracy: 0.1124 - val_loss: 3.4606 - val_accuracy: 0.1383\n",
      "Epoch 7/200\n",
      "7/7 [==============================] - 0s 17ms/step - loss: 3.3317 - accuracy: 0.1680 - val_loss: 3.4048 - val_accuracy: 0.1596\n",
      "Epoch 8/200\n",
      "7/7 [==============================] - 0s 10ms/step - loss: 3.2672 - accuracy: 0.1609 - val_loss: 3.3474 - val_accuracy: 0.1809\n",
      "Epoch 9/200\n",
      "7/7 [==============================] - 0s 27ms/step - loss: 3.1998 - accuracy: 0.1811 - val_loss: 3.2839 - val_accuracy: 0.1809\n",
      "Epoch 10/200\n",
      "7/7 [==============================] - 0s 17ms/step - loss: 3.1149 - accuracy: 0.2024 - val_loss: 3.2153 - val_accuracy: 0.2234\n",
      "Epoch 11/200\n",
      "7/7 [==============================] - 0s 17ms/step - loss: 3.0632 - accuracy: 0.2237 - val_loss: 3.1607 - val_accuracy: 0.2128\n",
      "Epoch 12/200\n",
      "7/7 [==============================] - 0s 19ms/step - loss: 2.9750 - accuracy: 0.2331 - val_loss: 3.1024 - val_accuracy: 0.2128\n",
      "Epoch 13/200\n",
      "7/7 [==============================] - 0s 9ms/step - loss: 2.9312 - accuracy: 0.2533 - val_loss: 3.0554 - val_accuracy: 0.2340\n",
      "Epoch 14/200\n",
      "7/7 [==============================] - 0s 8ms/step - loss: 2.8596 - accuracy: 0.2710 - val_loss: 3.0084 - val_accuracy: 0.2340\n",
      "Epoch 15/200\n",
      "7/7 [==============================] - 0s 6ms/step - loss: 2.8060 - accuracy: 0.2970 - val_loss: 2.9511 - val_accuracy: 0.2234\n",
      "Epoch 16/200\n",
      "7/7 [==============================] - 0s 5ms/step - loss: 2.7370 - accuracy: 0.3065 - val_loss: 2.8997 - val_accuracy: 0.2340\n",
      "Epoch 17/200\n",
      "7/7 [==============================] - 0s 9ms/step - loss: 2.6866 - accuracy: 0.3041 - val_loss: 2.8604 - val_accuracy: 0.2553\n",
      "Epoch 18/200\n",
      "7/7 [==============================] - 0s 8ms/step - loss: 2.6358 - accuracy: 0.3160 - val_loss: 2.8181 - val_accuracy: 0.2447\n",
      "Epoch 19/200\n",
      "7/7 [==============================] - 0s 6ms/step - loss: 2.5897 - accuracy: 0.3231 - val_loss: 2.7758 - val_accuracy: 0.2553\n",
      "Epoch 20/200\n",
      "7/7 [==============================] - 0s 14ms/step - loss: 2.5266 - accuracy: 0.3207 - val_loss: 2.7403 - val_accuracy: 0.2340\n",
      "Epoch 21/200\n",
      "7/7 [==============================] - 0s 10ms/step - loss: 2.4819 - accuracy: 0.3657 - val_loss: 2.6960 - val_accuracy: 0.2340\n",
      "Epoch 22/200\n",
      "7/7 [==============================] - 0s 6ms/step - loss: 2.4234 - accuracy: 0.3396 - val_loss: 2.6600 - val_accuracy: 0.2660\n",
      "Epoch 23/200\n",
      "7/7 [==============================] - 0s 9ms/step - loss: 2.4076 - accuracy: 0.3609 - val_loss: 2.6308 - val_accuracy: 0.2340\n",
      "Epoch 24/200\n",
      "7/7 [==============================] - 0s 10ms/step - loss: 2.3570 - accuracy: 0.3633 - val_loss: 2.5992 - val_accuracy: 0.2340\n",
      "Epoch 25/200\n",
      "7/7 [==============================] - 0s 9ms/step - loss: 2.3133 - accuracy: 0.3657 - val_loss: 2.5591 - val_accuracy: 0.2979\n",
      "Epoch 26/200\n",
      "7/7 [==============================] - 0s 8ms/step - loss: 2.2913 - accuracy: 0.3787 - val_loss: 2.5259 - val_accuracy: 0.3191\n",
      "Epoch 27/200\n",
      "7/7 [==============================] - 0s 6ms/step - loss: 2.2110 - accuracy: 0.3917 - val_loss: 2.5036 - val_accuracy: 0.2979\n",
      "Epoch 28/200\n",
      "7/7 [==============================] - 0s 8ms/step - loss: 2.2201 - accuracy: 0.3740 - val_loss: 2.4867 - val_accuracy: 0.2872\n",
      "Epoch 29/200\n",
      "7/7 [==============================] - 0s 6ms/step - loss: 2.1789 - accuracy: 0.3917 - val_loss: 2.4534 - val_accuracy: 0.2872\n",
      "Epoch 30/200\n",
      "7/7 [==============================] - 0s 8ms/step - loss: 2.1459 - accuracy: 0.3870 - val_loss: 2.4109 - val_accuracy: 0.2979\n",
      "Epoch 31/200\n",
      "7/7 [==============================] - 0s 5ms/step - loss: 2.1253 - accuracy: 0.3728 - val_loss: 2.3899 - val_accuracy: 0.2872\n",
      "Epoch 32/200\n",
      "7/7 [==============================] - 0s 4ms/step - loss: 2.1108 - accuracy: 0.3858 - val_loss: 2.3696 - val_accuracy: 0.2979\n",
      "Epoch 33/200\n",
      "7/7 [==============================] - 0s 5ms/step - loss: 2.0602 - accuracy: 0.4083 - val_loss: 2.3483 - val_accuracy: 0.3191\n",
      "Epoch 34/200\n",
      "7/7 [==============================] - 0s 6ms/step - loss: 2.0248 - accuracy: 0.4225 - val_loss: 2.3333 - val_accuracy: 0.3191\n",
      "Epoch 35/200\n",
      "7/7 [==============================] - 0s 8ms/step - loss: 1.9813 - accuracy: 0.4284 - val_loss: 2.3362 - val_accuracy: 0.3085\n",
      "Epoch 36/200\n",
      "7/7 [==============================] - 0s 5ms/step - loss: 1.9809 - accuracy: 0.4391 - val_loss: 2.3192 - val_accuracy: 0.3085\n",
      "Epoch 37/200\n",
      "7/7 [==============================] - 0s 6ms/step - loss: 1.9611 - accuracy: 0.4130 - val_loss: 2.2844 - val_accuracy: 0.3298\n",
      "Epoch 38/200\n",
      "7/7 [==============================] - 0s 5ms/step - loss: 1.9004 - accuracy: 0.4651 - val_loss: 2.2514 - val_accuracy: 0.3404\n",
      "Epoch 39/200\n",
      "7/7 [==============================] - 0s 6ms/step - loss: 1.8993 - accuracy: 0.4497 - val_loss: 2.2382 - val_accuracy: 0.3085\n",
      "Epoch 40/200\n",
      "7/7 [==============================] - 0s 5ms/step - loss: 1.8632 - accuracy: 0.4627 - val_loss: 2.2331 - val_accuracy: 0.3404\n",
      "Epoch 41/200\n",
      "7/7 [==============================] - 0s 5ms/step - loss: 1.8431 - accuracy: 0.4651 - val_loss: 2.2194 - val_accuracy: 0.3298\n",
      "Epoch 42/200\n",
      "7/7 [==============================] - 0s 10ms/step - loss: 1.8370 - accuracy: 0.4521 - val_loss: 2.1999 - val_accuracy: 0.3191\n",
      "Epoch 43/200\n",
      "7/7 [==============================] - 0s 14ms/step - loss: 1.8141 - accuracy: 0.4568 - val_loss: 2.1913 - val_accuracy: 0.3511\n",
      "Epoch 44/200\n",
      "7/7 [==============================] - 0s 19ms/step - loss: 1.8023 - accuracy: 0.4651 - val_loss: 2.1933 - val_accuracy: 0.3511\n",
      "Epoch 45/200\n",
      "7/7 [==============================] - 0s 20ms/step - loss: 1.8068 - accuracy: 0.4509 - val_loss: 2.1926 - val_accuracy: 0.3511\n",
      "Epoch 46/200\n",
      "7/7 [==============================] - 0s 10ms/step - loss: 1.7998 - accuracy: 0.4627 - val_loss: 2.1865 - val_accuracy: 0.3298\n",
      "Epoch 47/200\n",
      "7/7 [==============================] - 0s 9ms/step - loss: 1.7714 - accuracy: 0.4675 - val_loss: 2.1591 - val_accuracy: 0.3404\n",
      "Epoch 48/200\n",
      "7/7 [==============================] - 0s 8ms/step - loss: 1.7317 - accuracy: 0.4746 - val_loss: 2.1496 - val_accuracy: 0.3298\n",
      "Epoch 49/200\n",
      "7/7 [==============================] - 0s 5ms/step - loss: 1.6964 - accuracy: 0.5112 - val_loss: 2.1386 - val_accuracy: 0.3191\n",
      "Epoch 50/200\n",
      "7/7 [==============================] - 0s 8ms/step - loss: 1.7059 - accuracy: 0.4970 - val_loss: 2.1245 - val_accuracy: 0.3298\n",
      "Epoch 51/200\n",
      "7/7 [==============================] - 0s 6ms/step - loss: 1.6813 - accuracy: 0.5077 - val_loss: 2.1254 - val_accuracy: 0.3298\n",
      "Epoch 52/200\n",
      "7/7 [==============================] - 0s 5ms/step - loss: 1.6903 - accuracy: 0.4876 - val_loss: 2.1224 - val_accuracy: 0.3298\n",
      "Epoch 53/200\n",
      "7/7 [==============================] - 0s 6ms/step - loss: 1.6500 - accuracy: 0.4935 - val_loss: 2.1227 - val_accuracy: 0.3511\n",
      "Epoch 54/200\n",
      "7/7 [==============================] - 0s 5ms/step - loss: 1.6302 - accuracy: 0.5325 - val_loss: 2.1038 - val_accuracy: 0.3191\n",
      "Epoch 55/200\n",
      "7/7 [==============================] - 0s 5ms/step - loss: 1.6617 - accuracy: 0.4746 - val_loss: 2.1012 - val_accuracy: 0.3404\n",
      "Epoch 56/200\n",
      "7/7 [==============================] - 0s 6ms/step - loss: 1.6153 - accuracy: 0.5160 - val_loss: 2.1068 - val_accuracy: 0.3404\n",
      "Epoch 57/200\n",
      "7/7 [==============================] - 0s 5ms/step - loss: 1.5948 - accuracy: 0.5124 - val_loss: 2.1059 - val_accuracy: 0.3085\n",
      "Epoch 58/200\n",
      "7/7 [==============================] - 0s 5ms/step - loss: 1.5970 - accuracy: 0.5089 - val_loss: 2.0771 - val_accuracy: 0.3191\n",
      "Epoch 59/200\n"
     ]
    },
    {
     "name": "stdout",
     "output_type": "stream",
     "text": [
      "7/7 [==============================] - 0s 5ms/step - loss: 1.5879 - accuracy: 0.5195 - val_loss: 2.0669 - val_accuracy: 0.3511\n",
      "Epoch 60/200\n",
      "7/7 [==============================] - 0s 8ms/step - loss: 1.5400 - accuracy: 0.5491 - val_loss: 2.0548 - val_accuracy: 0.3511\n",
      "Epoch 61/200\n",
      "7/7 [==============================] - 0s 12ms/step - loss: 1.5413 - accuracy: 0.5396 - val_loss: 2.0551 - val_accuracy: 0.3298\n",
      "Epoch 62/200\n",
      "7/7 [==============================] - 0s 12ms/step - loss: 1.5304 - accuracy: 0.5302 - val_loss: 2.0575 - val_accuracy: 0.3511\n",
      "Epoch 63/200\n",
      "7/7 [==============================] - 0s 12ms/step - loss: 1.4972 - accuracy: 0.5290 - val_loss: 2.0743 - val_accuracy: 0.3404\n",
      "Epoch 64/200\n",
      "7/7 [==============================] - 0s 13ms/step - loss: 1.5113 - accuracy: 0.5586 - val_loss: 2.0700 - val_accuracy: 0.2979\n",
      "Epoch 65/200\n",
      "7/7 [==============================] - 0s 10ms/step - loss: 1.5267 - accuracy: 0.5337 - val_loss: 2.0591 - val_accuracy: 0.3298\n",
      "Epoch 66/200\n",
      "7/7 [==============================] - 0s 6ms/step - loss: 1.4868 - accuracy: 0.5302 - val_loss: 2.0220 - val_accuracy: 0.3617\n",
      "Epoch 67/200\n",
      "7/7 [==============================] - 0s 10ms/step - loss: 1.4448 - accuracy: 0.5775 - val_loss: 2.0357 - val_accuracy: 0.3298\n",
      "Epoch 68/200\n",
      "7/7 [==============================] - 0s 5ms/step - loss: 1.4641 - accuracy: 0.5586 - val_loss: 2.0632 - val_accuracy: 0.3085\n",
      "Epoch 69/200\n",
      "7/7 [==============================] - 0s 5ms/step - loss: 1.4752 - accuracy: 0.5633 - val_loss: 2.0581 - val_accuracy: 0.3085\n",
      "Epoch 70/200\n",
      "7/7 [==============================] - 0s 6ms/step - loss: 1.4620 - accuracy: 0.5503 - val_loss: 2.0235 - val_accuracy: 0.3511\n",
      "Epoch 71/200\n",
      "7/7 [==============================] - 0s 8ms/step - loss: 1.4491 - accuracy: 0.5515 - val_loss: 2.0167 - val_accuracy: 0.3617\n",
      "Epoch 72/200\n",
      "7/7 [==============================] - 0s 6ms/step - loss: 1.4432 - accuracy: 0.5751 - val_loss: 2.0404 - val_accuracy: 0.3511\n",
      "Epoch 73/200\n",
      "7/7 [==============================] - 0s 5ms/step - loss: 1.3976 - accuracy: 0.5811 - val_loss: 2.0327 - val_accuracy: 0.3404\n",
      "Epoch 74/200\n",
      "7/7 [==============================] - 0s 14ms/step - loss: 1.4106 - accuracy: 0.5893 - val_loss: 2.0342 - val_accuracy: 0.3404\n",
      "Epoch 75/200\n",
      "7/7 [==============================] - 0s 17ms/step - loss: 1.3765 - accuracy: 0.6000 - val_loss: 2.0177 - val_accuracy: 0.3617\n",
      "Epoch 76/200\n",
      "7/7 [==============================] - 0s 17ms/step - loss: 1.3780 - accuracy: 0.5834 - val_loss: 2.0239 - val_accuracy: 0.3511\n",
      "Epoch 77/200\n",
      "7/7 [==============================] - 0s 8ms/step - loss: 1.4052 - accuracy: 0.5728 - val_loss: 2.0394 - val_accuracy: 0.3191\n",
      "Epoch 78/200\n",
      "7/7 [==============================] - 0s 9ms/step - loss: 1.3662 - accuracy: 0.5704 - val_loss: 2.0231 - val_accuracy: 0.3404\n",
      "Epoch 79/200\n",
      "7/7 [==============================] - 0s 8ms/step - loss: 1.3688 - accuracy: 0.5763 - val_loss: 1.9996 - val_accuracy: 0.3511\n",
      "Epoch 80/200\n",
      "7/7 [==============================] - 0s 6ms/step - loss: 1.3548 - accuracy: 0.5822 - val_loss: 1.9974 - val_accuracy: 0.3936\n",
      "Epoch 81/200\n",
      "7/7 [==============================] - 0s 5ms/step - loss: 1.3517 - accuracy: 0.5941 - val_loss: 1.9980 - val_accuracy: 0.3723\n",
      "Epoch 82/200\n",
      "7/7 [==============================] - 0s 6ms/step - loss: 1.3615 - accuracy: 0.5740 - val_loss: 2.0237 - val_accuracy: 0.3617\n",
      "Epoch 83/200\n",
      "7/7 [==============================] - 0s 5ms/step - loss: 1.3103 - accuracy: 0.6012 - val_loss: 2.0447 - val_accuracy: 0.3617\n",
      "Epoch 84/200\n",
      "7/7 [==============================] - 0s 5ms/step - loss: 1.3570 - accuracy: 0.5976 - val_loss: 2.0483 - val_accuracy: 0.3511\n",
      "Epoch 85/200\n",
      "7/7 [==============================] - 0s 6ms/step - loss: 1.3015 - accuracy: 0.5964 - val_loss: 2.0346 - val_accuracy: 0.3617\n",
      "Epoch 86/200\n",
      "7/7 [==============================] - 0s 5ms/step - loss: 1.3041 - accuracy: 0.6024 - val_loss: 1.9966 - val_accuracy: 0.4043\n",
      "Epoch 87/200\n",
      "7/7 [==============================] - 0s 4ms/step - loss: 1.3261 - accuracy: 0.5882 - val_loss: 1.9690 - val_accuracy: 0.3936\n",
      "Epoch 88/200\n",
      "7/7 [==============================] - 0s 5ms/step - loss: 1.2996 - accuracy: 0.6107 - val_loss: 2.0125 - val_accuracy: 0.3936\n",
      "Epoch 89/200\n",
      "7/7 [==============================] - 0s 5ms/step - loss: 1.3229 - accuracy: 0.5740 - val_loss: 2.0543 - val_accuracy: 0.3723\n",
      "Epoch 90/200\n",
      "7/7 [==============================] - 0s 6ms/step - loss: 1.2964 - accuracy: 0.5905 - val_loss: 2.0438 - val_accuracy: 0.3511\n",
      "Epoch 91/200\n",
      "7/7 [==============================] - 0s 5ms/step - loss: 1.2767 - accuracy: 0.6130 - val_loss: 2.0245 - val_accuracy: 0.3617\n",
      "Epoch 92/200\n",
      "7/7 [==============================] - 0s 5ms/step - loss: 1.2685 - accuracy: 0.6225 - val_loss: 1.9912 - val_accuracy: 0.3830\n",
      "Epoch 93/200\n",
      "7/7 [==============================] - 0s 5ms/step - loss: 1.2605 - accuracy: 0.6225 - val_loss: 2.0178 - val_accuracy: 0.4149\n",
      "Epoch 94/200\n",
      "7/7 [==============================] - 0s 8ms/step - loss: 1.2791 - accuracy: 0.6107 - val_loss: 2.0252 - val_accuracy: 0.4043\n",
      "Epoch 95/200\n",
      "7/7 [==============================] - 0s 6ms/step - loss: 1.2387 - accuracy: 0.6402 - val_loss: 2.0220 - val_accuracy: 0.3723\n",
      "Epoch 96/200\n",
      "7/7 [==============================] - 0s 10ms/step - loss: 1.2148 - accuracy: 0.6379 - val_loss: 2.0331 - val_accuracy: 0.3723\n",
      "Epoch 97/200\n",
      "7/7 [==============================] - 0s 14ms/step - loss: 1.2281 - accuracy: 0.6154 - val_loss: 2.0127 - val_accuracy: 0.3830\n",
      "Epoch 98/200\n",
      "7/7 [==============================] - 0s 17ms/step - loss: 1.2400 - accuracy: 0.6308 - val_loss: 2.0095 - val_accuracy: 0.3936\n",
      "Epoch 99/200\n",
      "7/7 [==============================] - 0s 10ms/step - loss: 1.2293 - accuracy: 0.6284 - val_loss: 2.0176 - val_accuracy: 0.3936\n",
      "Epoch 100/200\n",
      "7/7 [==============================] - 0s 9ms/step - loss: 1.2383 - accuracy: 0.6000 - val_loss: 2.0317 - val_accuracy: 0.3936\n",
      "Epoch 101/200\n",
      "7/7 [==============================] - 0s 8ms/step - loss: 1.2242 - accuracy: 0.6201 - val_loss: 2.0247 - val_accuracy: 0.3936\n",
      "Epoch 102/200\n",
      "7/7 [==============================] - 0s 6ms/step - loss: 1.2233 - accuracy: 0.6237 - val_loss: 2.0172 - val_accuracy: 0.4043\n",
      "Epoch 103/200\n",
      "7/7 [==============================] - 0s 5ms/step - loss: 1.2040 - accuracy: 0.6284 - val_loss: 2.0336 - val_accuracy: 0.4043\n",
      "Epoch 104/200\n",
      "7/7 [==============================] - 0s 5ms/step - loss: 1.1534 - accuracy: 0.6509 - val_loss: 2.0356 - val_accuracy: 0.3936\n",
      "Epoch 105/200\n",
      "7/7 [==============================] - 0s 6ms/step - loss: 1.1924 - accuracy: 0.6414 - val_loss: 2.0390 - val_accuracy: 0.3936\n",
      "Epoch 106/200\n",
      "7/7 [==============================] - 0s 8ms/step - loss: 1.1722 - accuracy: 0.6568 - val_loss: 2.0051 - val_accuracy: 0.4043\n",
      "Epoch 107/200\n",
      "7/7 [==============================] - 0s 6ms/step - loss: 1.1949 - accuracy: 0.6225 - val_loss: 2.0160 - val_accuracy: 0.4043\n",
      "Epoch 108/200\n",
      "7/7 [==============================] - 0s 5ms/step - loss: 1.1774 - accuracy: 0.6343 - val_loss: 2.0578 - val_accuracy: 0.4149\n",
      "Epoch 109/200\n",
      "7/7 [==============================] - 0s 5ms/step - loss: 1.1713 - accuracy: 0.6414 - val_loss: 2.0383 - val_accuracy: 0.4149\n",
      "Epoch 110/200\n",
      "7/7 [==============================] - 0s 6ms/step - loss: 1.1715 - accuracy: 0.6343 - val_loss: 2.0425 - val_accuracy: 0.4149\n",
      "Epoch 111/200\n",
      "7/7 [==============================] - 0s 5ms/step - loss: 1.1713 - accuracy: 0.6568 - val_loss: 2.0400 - val_accuracy: 0.3936\n",
      "Epoch 112/200\n",
      "7/7 [==============================] - 0s 12ms/step - loss: 1.1357 - accuracy: 0.6509 - val_loss: 2.0603 - val_accuracy: 0.3830\n",
      "Epoch 113/200\n",
      "7/7 [==============================] - 0s 8ms/step - loss: 1.1622 - accuracy: 0.6225 - val_loss: 2.0528 - val_accuracy: 0.3936\n",
      "Epoch 114/200\n",
      "7/7 [==============================] - 0s 6ms/step - loss: 1.1404 - accuracy: 0.6651 - val_loss: 2.0565 - val_accuracy: 0.3830\n",
      "Epoch 115/200\n",
      "7/7 [==============================] - 0s 14ms/step - loss: 1.1435 - accuracy: 0.6627 - val_loss: 2.0563 - val_accuracy: 0.3936\n",
      "Epoch 116/200\n",
      "7/7 [==============================] - 0s 8ms/step - loss: 1.1224 - accuracy: 0.6533 - val_loss: 2.0669 - val_accuracy: 0.4043\n",
      "Epoch 117/200\n"
     ]
    },
    {
     "name": "stdout",
     "output_type": "stream",
     "text": [
      "7/7 [==============================] - 0s 9ms/step - loss: 1.1171 - accuracy: 0.6627 - val_loss: 2.0421 - val_accuracy: 0.4043\n",
      "Epoch 118/200\n",
      "7/7 [==============================] - 0s 8ms/step - loss: 1.0941 - accuracy: 0.6627 - val_loss: 2.0374 - val_accuracy: 0.4043\n",
      "Epoch 119/200\n",
      "7/7 [==============================] - 0s 17ms/step - loss: 1.1150 - accuracy: 0.6509 - val_loss: 2.0728 - val_accuracy: 0.3936\n",
      "Epoch 120/200\n",
      "7/7 [==============================] - 0s 8ms/step - loss: 1.1232 - accuracy: 0.6473 - val_loss: 2.0654 - val_accuracy: 0.4149\n",
      "Epoch 121/200\n",
      "7/7 [==============================] - 0s 9ms/step - loss: 1.1315 - accuracy: 0.6379 - val_loss: 2.0611 - val_accuracy: 0.4149\n",
      "Epoch 122/200\n",
      "7/7 [==============================] - 0s 14ms/step - loss: 1.0976 - accuracy: 0.6592 - val_loss: 2.0371 - val_accuracy: 0.4043\n",
      "Epoch 123/200\n",
      "7/7 [==============================] - 0s 10ms/step - loss: 1.0993 - accuracy: 0.6592 - val_loss: 2.0347 - val_accuracy: 0.4043\n",
      "Epoch 124/200\n",
      "7/7 [==============================] - 0s 22ms/step - loss: 1.0985 - accuracy: 0.6651 - val_loss: 2.0085 - val_accuracy: 0.4362\n",
      "Epoch 125/200\n",
      "7/7 [==============================] - 0s 8ms/step - loss: 1.0880 - accuracy: 0.6686 - val_loss: 2.0424 - val_accuracy: 0.4362\n",
      "Epoch 126/200\n",
      "7/7 [==============================] - 0s 6ms/step - loss: 1.0988 - accuracy: 0.6840 - val_loss: 2.0678 - val_accuracy: 0.4255\n",
      "Epoch 127/200\n",
      "7/7 [==============================] - 0s 5ms/step - loss: 1.0643 - accuracy: 0.6722 - val_loss: 2.1174 - val_accuracy: 0.4149\n",
      "Epoch 128/200\n",
      "7/7 [==============================] - 0s 5ms/step - loss: 1.0646 - accuracy: 0.6888 - val_loss: 2.1216 - val_accuracy: 0.3936\n",
      "Epoch 129/200\n",
      "7/7 [==============================] - 0s 6ms/step - loss: 1.0799 - accuracy: 0.6710 - val_loss: 2.1173 - val_accuracy: 0.4043\n",
      "Epoch 130/200\n",
      "7/7 [==============================] - 0s 8ms/step - loss: 1.0856 - accuracy: 0.6497 - val_loss: 2.0991 - val_accuracy: 0.4149\n",
      "Epoch 131/200\n",
      "7/7 [==============================] - 0s 8ms/step - loss: 1.0623 - accuracy: 0.6805 - val_loss: 2.0802 - val_accuracy: 0.4149\n",
      "Epoch 132/200\n",
      "7/7 [==============================] - 0s 8ms/step - loss: 1.0583 - accuracy: 0.6793 - val_loss: 2.0589 - val_accuracy: 0.4255\n",
      "Epoch 133/200\n",
      "7/7 [==============================] - 0s 6ms/step - loss: 1.0519 - accuracy: 0.6876 - val_loss: 2.0504 - val_accuracy: 0.4149\n",
      "Epoch 134/200\n",
      "7/7 [==============================] - 0s 5ms/step - loss: 1.0351 - accuracy: 0.6757 - val_loss: 2.0858 - val_accuracy: 0.4149\n",
      "Epoch 135/200\n",
      "7/7 [==============================] - 0s 12ms/step - loss: 1.0562 - accuracy: 0.6734 - val_loss: 2.0860 - val_accuracy: 0.4149\n",
      "Epoch 136/200\n",
      "7/7 [==============================] - 0s 12ms/step - loss: 1.0408 - accuracy: 0.6639 - val_loss: 2.0911 - val_accuracy: 0.4043\n",
      "Epoch 137/200\n",
      "7/7 [==============================] - 0s 14ms/step - loss: 1.0455 - accuracy: 0.6864 - val_loss: 2.0729 - val_accuracy: 0.4149\n",
      "Epoch 138/200\n",
      "7/7 [==============================] - 0s 12ms/step - loss: 1.0325 - accuracy: 0.6805 - val_loss: 2.0934 - val_accuracy: 0.4149\n",
      "Epoch 139/200\n",
      "7/7 [==============================] - 0s 17ms/step - loss: 1.0467 - accuracy: 0.6639 - val_loss: 2.0748 - val_accuracy: 0.4255\n",
      "Epoch 140/200\n",
      "7/7 [==============================] - 0s 8ms/step - loss: 0.9997 - accuracy: 0.7018 - val_loss: 2.0809 - val_accuracy: 0.4255\n",
      "Epoch 141/200\n",
      "7/7 [==============================] - 0s 8ms/step - loss: 1.0204 - accuracy: 0.6935 - val_loss: 2.1079 - val_accuracy: 0.4149\n",
      "Epoch 142/200\n",
      "7/7 [==============================] - 0s 9ms/step - loss: 1.0067 - accuracy: 0.6923 - val_loss: 2.0863 - val_accuracy: 0.4362\n",
      "Epoch 143/200\n",
      "7/7 [==============================] - 0s 8ms/step - loss: 1.0139 - accuracy: 0.6840 - val_loss: 2.1048 - val_accuracy: 0.4149\n",
      "Epoch 144/200\n",
      "7/7 [==============================] - 0s 12ms/step - loss: 1.0034 - accuracy: 0.6781 - val_loss: 2.0873 - val_accuracy: 0.4149\n",
      "Epoch 145/200\n",
      "7/7 [==============================] - 0s 8ms/step - loss: 0.9977 - accuracy: 0.6935 - val_loss: 2.1071 - val_accuracy: 0.3936\n",
      "Epoch 146/200\n",
      "7/7 [==============================] - 0s 5ms/step - loss: 0.9964 - accuracy: 0.6888 - val_loss: 2.1197 - val_accuracy: 0.4043\n",
      "Epoch 147/200\n",
      "7/7 [==============================] - 0s 8ms/step - loss: 1.0117 - accuracy: 0.6828 - val_loss: 2.1335 - val_accuracy: 0.3830\n",
      "Epoch 148/200\n",
      "7/7 [==============================] - 0s 6ms/step - loss: 1.0008 - accuracy: 0.6947 - val_loss: 2.1536 - val_accuracy: 0.3936\n",
      "Epoch 149/200\n",
      "7/7 [==============================] - 0s 8ms/step - loss: 0.9519 - accuracy: 0.7101 - val_loss: 2.1358 - val_accuracy: 0.3936\n",
      "Epoch 150/200\n",
      "7/7 [==============================] - 0s 6ms/step - loss: 0.9842 - accuracy: 0.6911 - val_loss: 2.0995 - val_accuracy: 0.3936\n",
      "Epoch 151/200\n",
      "7/7 [==============================] - 0s 5ms/step - loss: 0.9610 - accuracy: 0.6899 - val_loss: 2.0668 - val_accuracy: 0.4149\n",
      "Epoch 152/200\n",
      "7/7 [==============================] - 0s 5ms/step - loss: 0.9882 - accuracy: 0.6959 - val_loss: 2.0996 - val_accuracy: 0.3936\n",
      "Epoch 153/200\n",
      "7/7 [==============================] - 0s 6ms/step - loss: 0.9792 - accuracy: 0.6982 - val_loss: 2.1317 - val_accuracy: 0.4043\n",
      "Epoch 154/200\n",
      "7/7 [==============================] - 0s 5ms/step - loss: 0.9935 - accuracy: 0.6959 - val_loss: 2.1248 - val_accuracy: 0.3723\n",
      "Epoch 155/200\n",
      "7/7 [==============================] - 0s 6ms/step - loss: 0.9690 - accuracy: 0.7101 - val_loss: 2.1259 - val_accuracy: 0.3723\n",
      "Epoch 156/200\n",
      "7/7 [==============================] - 0s 5ms/step - loss: 0.9651 - accuracy: 0.6994 - val_loss: 2.1474 - val_accuracy: 0.4149\n",
      "Epoch 157/200\n",
      "7/7 [==============================] - 0s 5ms/step - loss: 0.9817 - accuracy: 0.6947 - val_loss: 2.1417 - val_accuracy: 0.4149\n"
     ]
    },
    {
     "data": {
      "text/plain": [
       "<keras.callbacks.History at 0x1afaab67d00>"
      ]
     },
     "execution_count": 15,
     "metadata": {},
     "output_type": "execute_result"
    }
   ],
   "source": [
    "model.fit(moves,pred, batch_size=128,\n",
    "          epochs=200,  callbacks=[callback], validation_split=0.1)"
   ]
  },
  {
   "cell_type": "code",
   "execution_count": 28,
   "id": "502f9b18",
   "metadata": {},
   "outputs": [],
   "source": [
    "#Board to give model to predict next move\n",
    "new_board = [\n",
    "[0., 0., 0., 0., 0., 0., 0.],\n",
    "[0., 0., 0., 0., 0., 0., 0.],\n",
    "[0., 0., 0., 0., 0., 0., 0.],\n",
    "[0., 0., 0., 0., 0., 0., 0.],\n",
    "[0., 0., 0., 0., 0., 0., 0.],\n",
    "[0., 0., 2., 1., 1., 0., 0.]]"
   ]
  },
  {
   "cell_type": "code",
   "execution_count": 29,
   "id": "f3a3b843",
   "metadata": {},
   "outputs": [],
   "source": [
    "#Reshaped input board for model\n",
    "shaped_board = np.array(new_board).reshape(1, 42)"
   ]
  },
  {
   "cell_type": "code",
   "execution_count": 30,
   "id": "5bbff763",
   "metadata": {},
   "outputs": [
    {
     "name": "stdout",
     "output_type": "stream",
     "text": [
      "1/1 [==============================] - 0s 16ms/step\n"
     ]
    },
    {
     "data": {
      "text/plain": [
       "<matplotlib.image.AxesImage at 0x1afaca4b370>"
      ]
     },
     "execution_count": 30,
     "metadata": {},
     "output_type": "execute_result"
    },
    {
     "data": {
      "image/png": "[encoded data removed]",
      "text/plain": [
       "<Figure size 432x288 with 1 Axes>"
      ]
     },
     "metadata": {
      "needs_background": "light"
     },
     "output_type": "display_data"
    }
   ],
   "source": [
    "#Predict the next move and output heat map\n",
    "predicted = model.predict(shaped_board)\n",
    "plt.imshow(predicted.reshape(6,7))"
   ]
  },
  {
   "cell_type": "code",
   "execution_count": 19,
   "id": "68ef2368",
   "metadata": {},
   "outputs": [],
   "source": [
    "out = deepcopy(predicted)"
   ]
  },
  {
   "cell_type": "code",
   "execution_count": 20,
   "id": "8c3de6ee",
   "metadata": {},
   "outputs": [
    {
     "data": {
      "text/plain": [
       "17"
      ]
     },
     "execution_count": 20,
     "metadata": {},
     "output_type": "execute_result"
    }
   ],
   "source": [
    "#Decide on highest probability move\n",
    "value = out.argmax(axis=1)\n",
    "while shaped_board[0][value] == 1:\n",
    "    out[0][value] = 0\n",
    "    value = out.argmax(axis=1)\n",
    "value[0]"
   ]
  },
  {
   "cell_type": "code",
   "execution_count": 21,
   "id": "0b33c0cc",
   "metadata": {},
   "outputs": [
    {
     "data": {
      "text/plain": [
       "array([[0., 0., 0., 0., 0., 0., 0.],\n",
       "       [0., 0., 0., 0., 0., 0., 0.],\n",
       "       [0., 0., 0., 1., 0., 0., 0.],\n",
       "       [0., 0., 0., 0., 0., 0., 0.],\n",
       "       [0., 0., 0., 0., 0., 0., 0.],\n",
       "       [0., 0., 0., 0., 0., 0., 0.]], dtype=float32)"
      ]
     },
     "execution_count": 21,
     "metadata": {},
     "output_type": "execute_result"
    }
   ],
   "source": [
    "#Output next move \n",
    "space = 0\n",
    "while space < 42:\n",
    "    if space == value:\n",
    "        out[0][space] = 1\n",
    "    else:\n",
    "        out[0][space] = 0\n",
    "    space = space + 1\n",
    "out.reshape(6,7)"
   ]
  },
  {
   "cell_type": "code",
   "execution_count": null,
   "id": "d0187cb7",
   "metadata": {},
   "outputs": [],
   "source": []
  }
 ],
 "metadata": {
  "kernelspec": {
   "display_name": "Python 3 (ipykernel)",
   "language": "python",
   "name": "python3"
  },
  "language_info": {
   "codemirror_mode": {
    "name": "ipython",
    "version": 3
   },
   "file_extension": ".py",
   "mimetype": "text/x-python",
   "name": "python",
   "nbconvert_exporter": "python",
   "pygments_lexer": "ipython3",
   "version": "3.9.12"
  }
 },
 "nbformat": 4,
 "nbformat_minor": 5
}
